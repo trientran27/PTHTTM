{
 "cells": [
  {
   "cell_type": "code",
   "execution_count": 1,
   "id": "e41f2dba",
   "metadata": {},
   "outputs": [
    {
     "name": "stdout",
     "output_type": "stream",
     "text": [
      "[0]\n",
      "Non-diabetic\n"
     ]
    },
    {
     "name": "stderr",
     "output_type": "stream",
     "text": [
      "C:\\Users\\huy\\anaconda3\\Lib\\site-packages\\sklearn\\base.py:464: UserWarning: X does not have valid feature names, but KNeighborsClassifier was fitted with feature names\n",
      "  warnings.warn(\n"
     ]
    }
   ],
   "source": [
    "import numpy as np\n",
    "import pandas as pd\n",
    "from sklearn.neighbors import KNeighborsClassifier\n",
    "df = pd.read_csv('diabetes.csv')\n",
    "\n",
    "df.info()\n",
    "df[['Glucose','BloodPressure','SkinThickness','Insulin','BMI','DiabetesPedigreeFunction','Age']] = df[['Glucose','BloodPressure','SkinThickness','Insulin','BMI','DiabetesPedigreeFunction','Age']].replace(0,np.NaN)\n",
    "df.fillna(df.mean(), inplace = True)\n",
    "print(df.eq(0).sum())\n",
    "\n",
    "X = df[['Glucose','BMI','Age']]\n",
    "y = df.iloc[:,8]\n",
    "\n",
    "\n",
    "knn = KNeighborsClassifier(n_neighbors=19)\n",
    "knn.fit(X, y)\n",
    "\n",
    "import pickle\n",
    "# #---save the model to disk---\n",
    "filename = 'diabetes.sav'\n",
    "# #---write to the file using write and binary mode---\n",
    "pickle.dump(knn, open(filename, 'wb'))\n",
    "# #---load the model from disk---\n",
    "loaded_model = pickle.load(open(filename, 'rb'))\n",
    "\n",
    "Glucose = 65\n",
    "BMI = 70\n",
    "Age = 50\n",
    "\n",
    "prediction = loaded_model.predict([[Glucose, BMI, Age]])\n",
    "print(prediction)\n",
    "if (prediction[0]==0):\n",
    " print(\"Non-diabetic\")\n",
    "else:\n",
    " print(\"Diabetic\")"
   ]
  },
  {
   "cell_type": "code",
   "execution_count": null,
   "id": "58fdc668",
   "metadata": {},
   "outputs": [],
   "source": [
    "import pickle\n",
    "from flask import Flask, request, json, jsonify\n",
    "import numpy as np\n",
    "\n",
    "app = Flask(__name__)\n",
    "#---the filename of the saved model---\n",
    "filename = 'diabetes.sav'\n",
    "#---load the saved model---\n",
    "loaded_model = pickle.load(open(filename, 'rb'))\n",
    "@app.route('/diabetes/v1/predict', methods=['POST'])\n",
    "def predict():\n",
    " #---get the features to predict---\n",
    " features = request.json\n",
    " #---create the features list for prediction---\n",
    " features_list = [features[\"Glucose\"],features[\"BMI\"],features[\"Age\"]]\n",
    " #---get the prediction class---\n",
    " prediction = loaded_model.predict([features_list])\n",
    " #---get the prediction probabilities---\n",
    " confidence = loaded_model.predict_proba([features_list])\n",
    " #---formulate the response to return to client---\n",
    " response = {}\n",
    " response['prediction'] = int(prediction[0])\n",
    " response['confidence'] = str(round(np.amax(confidence[0]) * 100 ,2))\n",
    " return jsonify(response)\n",
    "if __name__ == '__main__':\n",
    " app.run(host='0.0.0.0', port=5000)"
   ]
  },
  {
   "cell_type": "code",
   "execution_count": null,
   "id": "689eb813",
   "metadata": {},
   "outputs": [],
   "source": []
  }
 ],
 "metadata": {
  "kernelspec": {
   "display_name": "Python 3 (ipykernel)",
   "language": "python",
   "name": "python3"
  },
  "language_info": {
   "codemirror_mode": {
    "name": "ipython",
    "version": 3
   },
   "file_extension": ".py",
   "mimetype": "text/x-python",
   "name": "python",
   "nbconvert_exporter": "python",
   "pygments_lexer": "ipython3",
   "version": "3.11.4"
  }
 },
 "nbformat": 4,
 "nbformat_minor": 5
}
