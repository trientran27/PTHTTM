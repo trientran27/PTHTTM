{
 "cells": [
  {
   "cell_type": "code",
   "execution_count": 1,
   "id": "d8f5abac",
   "metadata": {},
   "outputs": [
    {
     "name": "stdout",
     "output_type": "stream",
     "text": [
      "tf.Tensor([5.], shape=(1,), dtype=float32)\n"
     ]
    }
   ],
   "source": [
    "#3.1\n",
    "import tensorflow as tf\n",
    "# tạo nút trong biểu đò tính toán\n",
    "node1 = tf.constant(3, dtype=tf.int32) #tạo các hằng số với kiểu dữ liệu int\n",
    "node2 = tf.constant(5, dtype=tf.int32)\n",
    "node3 = tf.add(node1, node2) #tổng 2 hằng đố\n",
    "\n",
    "# tạo 1 phiên tf giúp cho các biểu đồ tính toán lm vc trong phiên này\n",
    "sess = tf.compat.v1.Session()\n",
    "# evaluating node3 and printing the result\n",
    "#print(\"sum of node1 and node2 is :\",sess.run(node3))\n",
    "# đóng phiên\n",
    "sess.close()\n",
    "import tensorflow.compat.v1 as tf\n",
    "x = tf.constant(5,tf.float32) #tạo hằng số tf với kiểu dữ liệu float\n",
    "y = tf.constant([5], tf.float32) #tạo hằng số tf chứa 1 mảng với kiểu dữ liệu float\n",
    "z = tf.constant([5,3,4], tf.float32) #tạo hằng số tf chứa 1 mảng với kiểu dữ liệu float\n",
    "t = tf.constant([[5,3,4,6],[2,3,4,7]], tf.float32) #tạo hằng số tf chứa 1 ma trân 2x4 với kiểu dữ liệu float\n",
    "u = tf.constant([[[5,3,4,6],[2,3,4,0]]], tf.float32) #tạo hằng số tf chứa 1 ma trân 1x2x4 với kiểu dữ liệu float\n",
    "v = tf.constant([[[5,3,4,6],[2,3,4,0]],\n",
    "[[5,3,4,6],[2,3,4,0]],\n",
    "[[5,3,4,6],[2,3,4,0]]\n",
    "], tf.float32) #tạo 1 hằng chứa 1 tensor 3 chiều\n",
    "print(y)\n",
    "\n",
    "#sử dụng TensorFlow để tạo và quản lý các biến và hẹn định trong một biểu đồ tính toán"
   ]
  },
  {
   "cell_type": "code",
   "execution_count": 2,
   "id": "6ab1cbd6",
   "metadata": {},
   "outputs": [
    {
     "name": "stdout",
     "output_type": "stream",
     "text": [
      "22.79\n"
     ]
    }
   ],
   "source": [
    "#3.2\n",
    "import tensorflow.compat.v1 as tf\n",
    "tf.compat.v1.disable_eager_execution() #tắt tính toán ngay lập tức khi dùng bản 2. vì code nay sử dụng cho bản 1. tính toán truyền thống\n",
    "\n",
    "#định nghĩa các biến và kiểu dữ liệu tương ứng\n",
    "x1 = tf.Variable(5.3, tf.float32)\n",
    "x2 = tf.Variable(4.3, tf.float32)\n",
    "x = tf.multiply(x1,x2) #tích\n",
    "init = tf.global_variables_initializer() #tạo 1 operation dể khởi tạo tất cả các biến đc định nghĩa bên trên\n",
    "with tf.Session() as sess:  #tạo phiên tính toán\n",
    "    sess.run(init) #khởi tạo tất cả các biến trong phiên tính toán\n",
    "    t = sess.run(x) #khởi tạo và tính giá trị của biến x\n",
    "    print(t) #in ra\n",
    "\n",
    "# sử dụng TensorFlow để tạo và tính toán một biểu thức trong một phiên tính toán."
   ]
  },
  {
   "cell_type": "code",
   "execution_count": 3,
   "id": "b255c5c1",
   "metadata": {},
   "outputs": [
    {
     "name": "stdout",
     "output_type": "stream",
     "text": [
      "[[22.79 19.35 42.  ]\n",
      " [22.79 19.35 42.  ]]\n"
     ]
    }
   ],
   "source": [
    "import tensorflow.compat.v1 as tf\n",
    "tf.compat.v1.disable_eager_execution()#tắt tính toán ngay lập tức khi dùng bản 2. vì code nay sử dụng cho bản 1. tính toán truyền thống\n",
    "\n",
    "#định nghĩa biến dưới dạng ma trận và kiểu dữ liệu của nó\n",
    "x1 = tf.Variable([[5.3,4.5,6.0],\n",
    "[4.3,4.3,7.0]\n",
    "], tf.float32)\n",
    "x2 = tf.Variable([[4.3,4.3,7.0],\n",
    "[5.3,4.5,6.0]\n",
    "], tf.float32)\n",
    "\n",
    "x = tf.multiply(x1,x2) #tích\n",
    "init = tf.global_variables_initializer() #tạo 1 operation dể khởi tạo tất cả các biến đc định nghĩa bên trên\n",
    "with tf.Session() as sess: #tạo phiên tính toán\n",
    "    sess.run(init)#khởi tạo tất cả các biến trong phiên tính toán\n",
    "    t = sess.run(x) #khởi tạo và tính giá trị biến x\n",
    "    print(t)\n",
    "\n",
    "# sử dụng TensorFlow để tạo và tính toán một ma trận trong một phiên tính toán."
   ]
  },
  {
   "cell_type": "code",
   "execution_count": 4,
   "id": "3a45b1ab",
   "metadata": {},
   "outputs": [
    {
     "name": "stdout",
     "output_type": "stream",
     "text": [
      "Tensor value before addition:\n",
      " [[0. 0.]\n",
      " [0. 0.]]\n",
      "Tensor value after addition:\n",
      " [[1. 1.]\n",
      " [1. 1.]]\n"
     ]
    }
   ],
   "source": [
    "import tensorflow.compat.v1 as tf\n",
    "# khởi tạo biến node là 1 ma trận 2x2 chứa các giá trị 0\n",
    "node = tf.Variable(tf.zeros([2,2]))\n",
    "# tạo phiên tính toán và khởi tạo biến\n",
    "with tf.Session() as sess:\n",
    "    # khởi tạo tất cả các biến toàn cục\n",
    "    sess.run(tf.global_variables_initializer())\n",
    "    # in giá trị node\n",
    "    print(\"Tensor value before addition:\\n\",sess.run(node))\n",
    "    # elementwise addition to tensor\n",
    "    node = node.assign(node + tf.ones([2,2])) # phép công phần tử của 2 biến ma trận\n",
    "    # in lại giá trị node\n",
    "    print(\"Tensor value after addition:\\n\", sess.run(node))\n",
    "    sess.close() # đóng phiên"
   ]
  },
  {
   "cell_type": "code",
   "execution_count": 5,
   "id": "c9562695",
   "metadata": {},
   "outputs": [
    {
     "name": "stdout",
     "output_type": "stream",
     "text": [
      "10.0\n"
     ]
    }
   ],
   "source": [
    "#3.3\n",
    "import tensorflow.compat.v1 as tf \n",
    "tf.compat.v1.disable_eager_execution()#tắt tính toán ngay lập tức khi dùng bản 2. vì code nay sử dụng cho bản 1. tính toán truyền thống\n",
    "\n",
    "#Placeholder là một cách để bạn đặt giá trị đầu vào vào biểu đồ tính toán sau khi đã xây dựng nó\n",
    "x = tf.placeholder(tf.float32,None) #placeholder x có thể chứa một số lượng phần tử bất kỳ.\n",
    "y = tf.add(x,x) #cộng giá trị\n",
    "with tf.Session() as sess: #tạo phiên tính toán\n",
    "    x_data= 5 #khởi tạo giá trị\n",
    "    result = sess.run(y,feed_dict={x:x_data}) #khởi tạo  biến y và gán giá trị biến x\n",
    "    print(result) #in giá trị\n",
    "    \n",
    "#sử dụng placeholder trong TensorFlow để chứa dữ liệu đầu vào và làm cho biểu đồ tính toán \n",
    "#có thể thực hiện với các giá trị đầu vào cụ thể sau khi đã xây dựng biểu đồ. "
   ]
  },
  {
   "cell_type": "code",
   "execution_count": 1,
   "id": "520af737",
   "metadata": {},
   "outputs": [
    {
     "name": "stdout",
     "output_type": "stream",
     "text": [
      "[[3.  4.  6.6]]\n"
     ]
    }
   ],
   "source": [
    "import tensorflow.compat.v1 as tf\n",
    "tf.compat.v1.disable_eager_execution() #tắt tính toán ngay lập tức khi dùng bản 2. vì code nay sử dụng cho bản 1. tính toán truyền thống\n",
    "\n",
    "# hình dạng (shape) [None, 3]. Điều này có nghĩa rằng x có thể chứa một số hàng bất kỳ và mỗi hàng chứa 3 phần tử.\n",
    "x = tf.placeholder(tf.float32,[None,3])\n",
    "y = tf.add(x,x) #định nghĩa biến y là tổng 2x\n",
    "with tf.Session() as sess:\n",
    "    x_data= [[1.5, 2.0, 3.3]] #khởi tạo giá trị\n",
    "    result = sess.run(y,feed_dict={x:x_data}) #khởi tạo biến y là cung cấp giá trị x\n",
    "    print(result)\n"
   ]
  },
  {
   "cell_type": "code",
   "execution_count": 2,
   "id": "2abb7375",
   "metadata": {},
   "outputs": [
    {
     "name": "stdout",
     "output_type": "stream",
     "text": [
      "[[[2. 4. 6.]]]\n"
     ]
    }
   ],
   "source": [
    "import tensorflow.compat.v1 as tf\n",
    "tf.compat.v1.disable_eager_execution()#tắt tính toán ngay lập tức khi dùng bản 2. vì code nay sử dụng cho bản 1. tính toán truyền thống\n",
    "\n",
    "x = tf.placeholder(tf.float32,[None,None,3]) # x có thể chứa một số lượng hàng và cột bất kỳ và mỗi hàng-chỗ sẽ chứa 3 phần tử.\n",
    "y = tf.add(x,x) #định nghĩa biến y\n",
    "with tf.Session() as sess: #tạo phiên\n",
    "    x_data= [[[1,2,3]]]\n",
    "    result = sess.run(y,feed_dict={x:x_data})\n",
    "    print(result)\n",
    "    \n",
    "#sử dụng placeholder trong TensorFlow để chứa dữ liệu đầu vào và làm cho biểu đồ tính toán \n",
    "#có thể thực hiện với các giá trị đầu vào cụ thể sau khi đã xây dựng biểu đồ."
   ]
  },
  {
   "cell_type": "code",
   "execution_count": 7,
   "id": "c5424e75",
   "metadata": {},
   "outputs": [
    {
     "name": "stdout",
     "output_type": "stream",
     "text": [
      "[[[ 2.  4.  6.]\n",
      "  [ 4.  6.  8.]\n",
      "  [ 4.  6. 10.]\n",
      "  [ 0.  2.  4.]]]\n"
     ]
    }
   ],
   "source": [
    "import tensorflow.compat.v1 as tf\n",
    "tf.compat.v1.disable_eager_execution()#tắt tính toán ngay lập tức khi dùng bản 2. vì code nay sử dụng cho bản 1. tính toán truyền thống\n",
    "\n",
    "x = tf.placeholder(tf.float32,[None,4,3]) #x có thể chứa một số hàng bất kỳ và mỗi hàng-chỗ sẽ chứa một ma trận 4x3.\n",
    "y = tf.add(x,x) #định nghĩa biến y\n",
    "with tf.Session() as sess: #tạo phiên\n",
    "    x_data= [[[1,2,3],\n",
    "    [2,3,4],\n",
    "    [2,3,5],\n",
    "    [0,1,2]\n",
    "    ]]\n",
    "    result = sess.run(y,feed_dict={x:x_data}) #khởi tạo giá trị y và cung cấp giá trị x\n",
    "    print(result)"
   ]
  },
  {
   "cell_type": "code",
   "execution_count": 8,
   "id": "4b4fc0d0",
   "metadata": {},
   "outputs": [
    {
     "name": "stdout",
     "output_type": "stream",
     "text": [
      "[[[ 2.  4.  6.]\n",
      "  [ 4.  6.  8.]\n",
      "  [ 4.  6. 10.]\n",
      "  [ 0.  2.  4.]]\n",
      "\n",
      " [[ 2.  4.  6.]\n",
      "  [ 4.  6.  8.]\n",
      "  [ 4.  6. 10.]\n",
      "  [ 0.  2.  4.]]]\n"
     ]
    }
   ],
   "source": [
    "import tensorflow.compat.v1 as tf\n",
    "tf.compat.v1.disable_eager_execution()#để làm cho mã hoạt động theo kiểu truyền thống dựa trên TensorFlow 1.x.\n",
    "\n",
    "x = tf.placeholder(tf.float32,[2,4,3]) #x có hình dạng chính xác là ma trận 3 chiều với kích thước là [2, 4, 3].\n",
    "y = tf.add(x,x) #đinh nghĩa y\n",
    "with tf.Session() as sess: #tạo phiên\n",
    "    x_data= [[[1,2,3],\n",
    "                [2,3,4],\n",
    "                [2,3,5],\n",
    "                [0,1,2]\n",
    "                ],\n",
    "                [[1,2,3],\n",
    "                [2,3,4],\n",
    "                [2,3,5],\n",
    "                [0,1,2]\n",
    "                ]]\n",
    "    result = sess.run(y,feed_dict={x:x_data}) #khởi tạo giá trị y và cung cấp giá trị cho x\n",
    "    print(result)\n",
    "    \n",
    "#sử dụng placeholder trong TensorFlow để chứa dữ liệu đầu vào và làm cho biểu đồ tính toán \n",
    "#có thể thực hiện với các giá trị đầu vào cụ thể sau khi đã xây dựng biểu đồ."
   ]
  },
  {
   "cell_type": "code",
   "execution_count": 9,
   "id": "71549ca0",
   "metadata": {},
   "outputs": [
    {
     "name": "stdout",
     "output_type": "stream",
     "text": [
      "result1 = [[[ 2.  4.  6.]\n",
      "  [ 4.  6.  8.]\n",
      "  [ 4.  6. 10.]\n",
      "  [ 0.  2.  4.]]\n",
      "\n",
      " [[ 2.  4.  6.]\n",
      "  [ 4.  6.  8.]\n",
      "  [ 4.  6. 10.]\n",
      "  [ 0.  2.  4.]]]\n",
      "result2 = [[[ 1.  4.  9.]\n",
      "  [ 4.  9. 16.]\n",
      "  [ 4.  9. 25.]\n",
      "  [ 0.  1.  4.]]\n",
      "\n",
      " [[ 1.  4.  9.]\n",
      "  [ 4.  9. 16.]\n",
      "  [ 4.  9. 25.]\n",
      "  [ 0.  1.  4.]]]\n"
     ]
    }
   ],
   "source": [
    "import tensorflow.compat.v1 as tf\n",
    "tf.compat.v1.disable_eager_execution()#để làm cho mã hoạt động theo kiểu truyền thống dựa trên TensorFlow 1.x.\n",
    "\n",
    "x = tf.placeholder(tf.float32,[2,4,3]) #x có hình dạng chính xác là ma trận 3 chiều với kích thước là [2, 4, 3].\n",
    "y = tf.placeholder(tf.float32,[2,4,3]) #y có hình dạng chính xác là ma trận 3 chiều với kích thước là [2, 4, 3].\n",
    "z = tf.add(x,y) #định nghĩa tổng\n",
    "u = tf.multiply(x,y) #định nghĩa tích\n",
    "with tf.Session() as sess: #tạo phiên\n",
    "    x_data= [[[1,2,3],\n",
    "                [2,3,4],\n",
    "                [2,3,5],\n",
    "                [0,1,2]\n",
    "                ],\n",
    "                [[1,2,3],\n",
    "                [2,3,4],\n",
    "                [2,3,5],\n",
    "                [0,1,2]\n",
    "                ]]\n",
    "    y_data= [[[1,2,3],\n",
    "                [2,3,4],\n",
    "                [2,3,5],\n",
    "                [0,1,2]\n",
    "                ],\n",
    "                [[1,2,3],\n",
    "                [2,3,4],\n",
    "                [2,3,5],\n",
    "                [0,1,2]\n",
    "                ]]\n",
    "    result1 = sess.run(z,feed_dict={x:x_data, y:y_data}) #khởi tạo giá trị z và cung cấp giá trị x,y\n",
    "    result2 = sess.run(u,feed_dict={x:x_data, y:y_data}) #khởi tạo giá trị u và cung cấp giá trị x,y\n",
    "    print(\"result1 =\", result1)\n",
    "    print(\"result2 =\", result2)"
   ]
  },
  {
   "cell_type": "code",
   "execution_count": 10,
   "id": "e63c5110",
   "metadata": {},
   "outputs": [
    {
     "name": "stdout",
     "output_type": "stream",
     "text": [
      "0.9885698\n"
     ]
    }
   ],
   "source": [
    "#3.4\n",
    "import tensorflow.compat.v1 as tf\n",
    "tf.compat.v1.disable_eager_execution()##để làm cho mã hoạt động theo kiểu truyền thống dựa trên TensorFlow 1.x.\n",
    "\n",
    "x1 = tf.constant(5.3, tf.float32) #định nghĩa hằng số\n",
    "x2 = tf.constant(1.5, tf.float32)\n",
    "\n",
    "w1 = tf.Variable(0.7, tf.float32) #định nghĩa biến\n",
    "w2 = tf.Variable(0.5, tf.float32)\n",
    "\n",
    "u = tf.multiply(x1,w1) #định nghĩa tích \n",
    "v = tf.multiply(x2,w2)\n",
    "z = tf.add(u,v) #định nghĩa tổng\n",
    "result = tf.sigmoid(z) #tính giá trị sigmoid của z và lưu vào biến result.\n",
    "# Hàm sigmoid : σ(x) = 1 / (1 + e^(-x))\n",
    "\n",
    "init = tf.global_variables_initializer() #khởi tạo các biến toàn cục đã được định nghĩa trước đó\n",
    "with tf.Session() as sess:\n",
    "    sess.run(init) #chạy khởi tạo tất cả các biến\n",
    "    print(sess.run(result))\n",
    "    \n",
    "#Mục đích của đoạn code là tính giá trị của hàm sigmoid trên một biểu đồ tính toán TensorFlow sử dụng các hằng số và biến, và in ra giá trị đó."
   ]
  },
  {
   "cell_type": "code",
   "execution_count": 11,
   "id": "138da319",
   "metadata": {},
   "outputs": [
    {
     "data": {
      "image/png": "[encoded data removed]",
      "text/plain": [
       "<Figure size 640x480 with 1 Axes>"
      ]
     },
     "metadata": {},
     "output_type": "display_data"
    }
   ],
   "source": [
    "import numpy as np\n",
    "import matplotlib.pyplot as plt\n",
    "\n",
    "number_of_points = 500 # để xác định số lượng điểm dữ liệu mà chúng ta sẽ tạo.\n",
    "#khởi tạo danh sách rỗng để lưu trữ các điểm được tạo ra\n",
    "x_point = []\n",
    "y_point = []\n",
    "\n",
    "#a và b đại diện cho các hệ số trong phương trình tuyến tính y = ax + b, và chúng được sử dụng để tạo dữ liệu ngẫu nhiên dựa trên phương trình này.\n",
    "a = 0.22\n",
    "b = 0.78\n",
    "\n",
    "for i in range(number_of_points): #xét 500 điểm dữ liệu\n",
    "    x = np.random.normal(0.0,0.5) #tạo một giá trị x ngẫu nhiên từ một phân phối chuẩn (Gaussian) có trung bình 0 và độ lệch chuẩn 0.5.\n",
    "    y = a*x + b +np.random.normal(0.0,0.1) # một lượng nhiễu ngẫu nhiên thông qua np.random.normal(0.0, 0.1)\n",
    "    #thêm giá trị x, y vào danh sách\n",
    "    x_point.append([x])\n",
    "    y_point.append([y])\n",
    "\n",
    "#vẽ biểu đồ và các điểm dữ liệu dánh dấu là o\n",
    "plt.plot(x_point,y_point, 'o', label = 'Input Data')\n",
    "plt.legend() #được sử dụng để hiển thị chú thích về biểu đồ\n",
    "plt.show()\n",
    "\n",
    "#mục đích của đoạn code này là tạo dữ liệu ngẫu nhiên dựa trên một phương trình tuyến tính và vẽ biểu đồ để hiển thị dữ liệu đó. \n",
    "#Điều này có thể sử dụng để minh họa hoặc kiểm tra các phương pháp phân loại hoặc hồi quy tuyến tính."
   ]
  },
  {
   "cell_type": "code",
   "execution_count": 12,
   "id": "7d88b537",
   "metadata": {},
   "outputs": [
    {
     "name": "stdout",
     "output_type": "stream",
     "text": [
      "[[0.785835   0.85814893 0.9801597 ]]\n"
     ]
    }
   ],
   "source": [
    "import tensorflow.compat.v1 as tf\n",
    "tf.compat.v1.disable_eager_execution()#để làm cho mã hoạt động theo kiểu truyền thống dựa trên TensorFlow 1.x.\n",
    "\n",
    "#định nghĩa placeholder gồm có thể 1 số hàng và mỗi hàng có 3 phần tử\n",
    "x1 = tf.placeholder(tf.float32,[None,3])\n",
    "x2 = tf.placeholder(tf.float32,[None,3])\n",
    "\n",
    "#định nghĩa biến w1 và w2 đại diện cho các trọng số trong phương trình tuyến tính\n",
    "w1 = tf.Variable([0.5,0.4,0.7],tf.float32)\n",
    "w2 = tf.Variable([0.8,0.5,0.6], tf.float32)\n",
    "\n",
    "#u1 và u2 lưu trữ tích của trọng số tương ứng với x1 và x2\n",
    "u1 = tf.multiply(w1,x1)\n",
    "u2 = tf.multiply(w2,x2)\n",
    "\n",
    "#v lưu trữ tổng của u1 và u2.\n",
    "v = tf.add(u1,u2)\n",
    "z = tf.sigmoid(v) #z lưu trữ giá trị sigmoid của v.\n",
    "init = tf.global_variables_initializer() #khởi tạo tất cả các biến toàn cục định nghĩa trước đó\n",
    "with tf.Session() as sess: #tao phiên\n",
    "    x1_data= [[1,2,3]]\n",
    "    x2_data= [[1,2,3]]\n",
    "    sess.run(init) # khởi tạo\n",
    "    result = sess.run(z,feed_dict={x1:x1_data, x2:x2_data}) #tính giá trị của z, tức là giá trị sigmoid của v, và in giá trị này ra màn hình.\n",
    "    print(result)\n",
    "    \n",
    "#Mục đích của đoạn code này là tính giá trị sigmoid của một biểu đồ tính toán sử dụng placeholders và biến trong TensorFlow, với hai tập dữ liệu đầu vào x1_data và x2_data."
   ]
  },
  {
   "cell_type": "code",
   "execution_count": 6,
   "id": "750dfc5b",
   "metadata": {
    "scrolled": true
   },
   "outputs": [
    {
     "name": "stdout",
     "output_type": "stream",
     "text": [
      "[[2 2 2]\n",
      " [2 2 2]\n",
      " [2 2 2]]\n",
      "[[1 1 1]\n",
      " [1 1 1]\n",
      " [1 1 1]] \n",
      "\n",
      "[[2. 7. 2.]\n",
      " [1. 4. 2.]\n",
      " [9. 0. 2.]] \n",
      "\n",
      "[[6 6 6]\n",
      " [6 6 6]\n",
      " [6 6 6]]\n",
      "[[3 3 3]\n",
      " [3 3 3]\n",
      " [3 3 3]]\n",
      "55.999992\n"
     ]
    }
   ],
   "source": [
    "import tensorflow as tf\n",
    "import numpy as np\n",
    "\n",
    "# định nghĩa hai ma trận 3x3 matrix1 và matrix2 với các giá trị được chỉ định và kiểu dữ liệu là 'int32'.\n",
    "matrix1 = np.array([(2,2,2),(2,2,2),(2,2,2)],dtype = 'int32')\n",
    "matrix2 = np.array([(1,1,1),(1,1,1),(1,1,1)],dtype = 'int32')\n",
    "\n",
    "#in\n",
    "print (matrix1)\n",
    "print (matrix2, \"\\n\")\n",
    "\n",
    "#chuyển đổi hai ma trận từ NumPy arrays thành TensorFlow constants để có thể sử dụng chúng trong tính toán TensorFlow.\n",
    "matrix1 = tf.constant(matrix1)\n",
    "matrix2 = tf.constant(matrix2)\n",
    "\n",
    "#tích 2 ma trận\n",
    "matrix_product = tf.matmul(matrix1, matrix2)\n",
    "#tổng 2 ma trận\n",
    "matrix_sum = tf.add(matrix1,matrix2)\n",
    "\n",
    "#định nghĩa ma trận matrix_3 3x3 với các giá trị và kiểu dữ liệu là 'float32'.\n",
    "matrix_3 = np.array([(2,7,2),(1,4,2),(9,0,2)],dtype = 'float32')\n",
    "print (matrix_3, \"\\n\")\n",
    "\n",
    "#tính định thức của matrix_3.\n",
    "matrix_det = tf.linalg.det(matrix_3)\n",
    "\n",
    "with tf.compat.v1.Session() as sess: #tạo phiên tính toán\n",
    "    result1 = sess.run(matrix_product) #tính toán các giá trị\n",
    "    result2 = sess.run(matrix_sum)\n",
    "    result3 = sess.run(matrix_det)\n",
    "    print (result1)\n",
    "    print (result2)\n",
    "    print (result3)\n",
    "#note: không cần dùng khởi tạo các biến vì k dùng kiểu biến mà đang dùng kiểu hằng số\n",
    "#Mục đích của đoạn code này là thực hiện các phép tính ma trận như nhân ma trận, cộng ma trận và tính định thức bằng sử dụng TensorFlow trên các ma trận "
   ]
  },
  {
   "cell_type": "code",
   "execution_count": 14,
   "id": "8bbeea5a",
   "metadata": {},
   "outputs": [
    {
     "name": "stdout",
     "output_type": "stream",
     "text": [
      "Epoch:   200 \t Cost:    0.1295 \t W:0.3816 \t b:-0.1226\n",
      "Epoch:   400 \t Cost:    0.1093 \t W:0.3536 \t b:0.07607\n",
      "Epoch:   600 \t Cost:   0.09682 \t W:0.3316 \t b:0.2319\n",
      "Epoch:   800 \t Cost:   0.08917 \t W:0.3143 \t b:0.3542\n",
      "Epoch:  1000 \t Cost:   0.08446 \t W:0.3008 \t b:0.4501\n",
      "Epoch:  1200 \t Cost:   0.08156 \t W:0.2902 \t b:0.5253\n",
      "Epoch:  1400 \t Cost:   0.07978 \t W:0.2819 \t b:0.5843\n",
      "Epoch:  1600 \t Cost:   0.07868 \t W:0.2754 \t b:0.6305\n",
      "Epoch:  1800 \t Cost:   0.07801 \t W:0.2703 \t b:0.6668\n",
      "Epoch:  2000 \t Cost:   0.07759 \t W:0.2662 \t b:0.6953\n",
      "Optimization Finished!\n",
      "Final training cost: 0.07759212 W: 0.26623613 b: 0.69528544 \n",
      "\n"
     ]
    },
    {
     "data": {
      "image/png": "[encoded data removed]",
      "text/plain": [
       "<Figure size 640x480 with 1 Axes>"
      ]
     },
     "metadata": {},
     "output_type": "display_data"
    },
    {
     "name": "stdout",
     "output_type": "stream",
     "text": [
      "Final testing cost: 0.07605784\n",
      "Absolute mean square loss difference: 0.0015342832\n"
     ]
    },
    {
     "data": {
      "image/png": "[encoded data removed]",
      "text/plain": [
       "<Figure size 640x480 with 1 Axes>"
      ]
     },
     "metadata": {},
     "output_type": "display_data"
    }
   ],
   "source": [
    "#3.5\n",
    "# importing the dependencies\n",
    "import tensorflow.compat.v1 as tf\n",
    "import numpy as np\n",
    "import matplotlib.pyplot as plt\n",
    "\n",
    "# Thông số mô hình\n",
    "#Các tham số này bao gồm tỷ lệ học (learning rate), số lượng epoch (vòng lặp huấn luyện), \n",
    "#và bước hiển thị thông tin trong quá trình huấn luyện\n",
    "learning_rate = 0.01\n",
    "training_epochs = 2000\n",
    "display_step = 200\n",
    "\n",
    "# dữ liệu huấn luyện\n",
    "train_X = np.asarray([3.3, 4.4, 5.5, 6.71, 6.93, 4.168, 9.779, 6.182, 7.59, 2.167, 7.042, 10.791, 5.313, 7.997, 5.654, 9.27, 3.1])\n",
    "train_y = np.asarray([1.7, 2.76, 2.09, 3.19, 1.694, 1.573, 3.366, 2.596, 2.53, 1.221, 2.827, 3.465, 1.65, 2.904, 2.42, 2.94, 1.3])\n",
    "n_samples = train_X.shape[0]\n",
    "\n",
    "# tập dữ liệu kiểm tra\n",
    "test_X = np.asarray([6.83, 4.668, 8.9, 7.91, 5.7, 8.7, 3.1, 2.1])\n",
    "\n",
    "# định nghĩa placeholder sử dụng để cung cấp dữ liệu cho mô hình trong quá trình huấn luyện và kiểm tra.\n",
    "X = tf.placeholder(tf.float32)\n",
    "y = tf.placeholder(tf.float32)\n",
    "\n",
    "# tập dữ liệu kiểm tra\n",
    "test_y = np.asarray([1.84, 2.273, 3.2, 2.831, 2.92, 3.24, 1.35, 1.03])\n",
    "\n",
    "#định nghĩa biến cho mô hình sẽ học tối ưu hóa\n",
    "W = tf.Variable(np.random.randn(), name=\"weight\")\n",
    "b = tf.Variable(np.random.randn(), name=\"bias\")\n",
    "\n",
    "# xây dựng mô hình tuyến tính  tính đơn giản với đầu vào X được tính bằng cách nhân trọng số W với X và cộng thêm bias b.\n",
    "linear_model = W*X + b\n",
    "\n",
    "# định nghĩa hàm mất mát đo lường sự sai lệch giữa dự đoán linear_model và đầu ra thực tế y và được tính bằng sai số bình phương trung bình.\n",
    "cost = tf.reduce_sum(tf.square(linear_model - y)) / (2*n_samples)\n",
    "\n",
    "# sử dụng thuật toán gradient descent với tỷ lệ học learning_rate để cập nhật trọng số W và bias b sao cho hàm mất mát giảm dần.\n",
    "optimizer = tf.train.GradientDescentOptimizer(learning_rate).minimize(cost)\n",
    "\n",
    "# khởi tạo các biến toàn cục trước đó định nghĩa\n",
    "init = tf.global_variables_initializer()\n",
    "\n",
    "# tạo phiên và tính toán huấn luyện mô hình\n",
    "with tf.Session() as sess:\n",
    "    # khởi tạo\n",
    "    sess.run(init)\n",
    "    \n",
    "    #Trong mỗi vòng lặp, chúng ta thực hiện một bước gradient descent để cập nhật trọng số và bias, sau đó in thông tin về cost function và các tham số mô hình.\n",
    "    # Fit all training data\n",
    "    for epoch in range(training_epochs):\n",
    "        # Thực hiện bước giảm độ dốc\n",
    "        sess.run(optimizer, feed_dict={X: train_X, y: train_y})\n",
    "        \n",
    "        # hiển thị nhật kí qua các vòng\n",
    "        if (epoch+1) % display_step == 0:\n",
    "            c = sess.run(cost, feed_dict={X: train_X, y: train_y})\n",
    "            print(\"Epoch:{0:6} \\t Cost:{1:10.4} \\t W:{2:6.4} \\t b:{3:6.4}\".format(epoch+1, c, sess.run(W), sess.run(b)))\n",
    "    \n",
    "    # Sau khi huấn luyện xong, chúng ta in ra cost function cuối cùng và các trọng số của mô hình.\n",
    "    print(\"Optimization Finished!\")\n",
    "    training_cost = sess.run(cost, feed_dict={X: train_X, y: train_y})\n",
    "    print(\"Final training cost:\", training_cost, \"W:\", sess.run(W), \"b:\", sess.run(b), '\\n')\n",
    "    \n",
    "    # hiển thị đồ thị\n",
    "    #vẽ đồ thị dữ liệu gốc và đường thẳng tương ứng với mô hình sau khi huấn luyện để trực quan hóa kết quả.\n",
    "    plt.plot(train_X, train_y, 'ro', label='Original data')\n",
    "    plt.plot(train_X, sess.run(W) * train_X + sess.run(b), label='Fitted line')\n",
    "    plt.legend()\n",
    "    plt.show()\n",
    "    \n",
    "    # đánh giá mô hình trên tập kiểm tra\n",
    "    #tính toán cost function trên dữ liệu kiểm tra và in ra kết quả. Điều này giúp đánh giá hiệu suất của mô hình trên dữ liệu mới mà nó chưa thấy.\n",
    "    testing_cost = sess.run(tf.reduce_sum(tf.square(linear_model - y)) / (2 * test_X.shape[0]), feed_dict={X: test_X, y: test_y})\n",
    "    print(\"Final testing cost:\", testing_cost)\n",
    "    print(\"Absolute mean square loss difference:\", abs(training_cost - testing_cost))\n",
    "    \n",
    "    # Hiển thị dữ liệu kiểm tra\n",
    "    plt.plot(test_X, test_y, 'bo', label='Testing data')\n",
    "    plt.plot(train_X, sess.run(W) * train_X + sess.run(b), label='Fitted line')\n",
    "    plt.legend()\n",
    "    plt.show()\n",
    "\n",
    "#Mục đích của đoạn code này là xây dựng một mô hình hồi quy tuyến tính đơn giản bằng TensorFlow và huấn luyện nó trên dữ liệu \n",
    "#huấn luyện. Sau đó, đánh giá hiệu suất của mô hình trên dữ liệu kiểm tra và trực quan hóa kết quả."
   ]
  },
  {
   "cell_type": "code",
   "execution_count": 1,
   "id": "e762982b",
   "metadata": {},
   "outputs": [
    {
     "name": "stdout",
     "output_type": "stream",
     "text": [
      "0.8537978\n",
      "0.78074276\n",
      "1.2700001\n"
     ]
    }
   ],
   "source": [
    "#3.6\n",
    "\n",
    "import tensorflow.compat.v1 as tf\n",
    "tf.compat.v1.disable_eager_execution() \n",
    "\n",
    "X1 = tf.Variable(2., tf.float32)\n",
    "X2 = tf.Variable(3., tf.float32)\n",
    "X3 = tf.Variable(4., tf.float32)\n",
    "\n",
    "w1 = tf.constant(0.05, tf.float32)\n",
    "w2 = tf.constant(0.07, tf.float32)\n",
    "w3 = tf.constant(0.09, tf.float32)\n",
    "b = tf.constant(0.6, tf.float32)\n",
    "\n",
    "model= w1*X1 + w3*X3 + w2*X2 + b\n",
    "\n",
    "res_tanh =tf.tanh(model)\n",
    "res_sig = tf.sigmoid(model)\n",
    "res_relu = tf.nn.relu(model)\n",
    "\n",
    "init = tf.global_variables_initializer()\n",
    "with tf.Session() as sess:\n",
    "    sess.run(init)\n",
    "    print(sess.run(res_tanh))\n",
    "    print(sess.run(res_sig))\n",
    "    print(sess.run(res_relu))\n"
   ]
  },
  {
   "cell_type": "code",
   "execution_count": 2,
   "id": "53fcc0e2",
   "metadata": {},
   "outputs": [
    {
     "name": "stdout",
     "output_type": "stream",
     "text": [
      "[[0.8537976]]\n"
     ]
    }
   ],
   "source": [
    "#3.7\n",
    "import tensorflow.compat.v1 as tf\n",
    "import numpy as np\n",
    "\n",
    "X = tf.placeholder(tf.float32)\n",
    "W = tf.placeholder(tf.float32)\n",
    "b = tf.placeholder(tf.float32)\n",
    "\n",
    "model = tf.add(tf.matmul(X,W) , b)\n",
    "\n",
    "res_tanh =tf.tanh(model)\n",
    "\n",
    "# lấy dữ liệu, vd\n",
    "x_data = [[2,3,4]]\n",
    "w_data = np.array([[0.05, 0.07, 0.09]])\n",
    "b_data = 0.6\n",
    "init = tf.global_variables_initializer()\n",
    "with tf.Session() as sess:\n",
    "    sess.run(init)\n",
    "    print(sess.run(res_tanh , feed_dict={X:x_data , W:np.transpose(w_data) , b:b_data}))\n",
    "    "
   ]
  },
  {
   "cell_type": "code",
   "execution_count": null,
   "id": "0a964f65",
   "metadata": {},
   "outputs": [],
   "source": []
  }
 ],
 "metadata": {
  "kernelspec": {
   "display_name": "Python 3 (ipykernel)",
   "language": "python",
   "name": "python3"
  },
  "language_info": {
   "codemirror_mode": {
    "name": "ipython",
    "version": 3
   },
   "file_extension": ".py",
   "mimetype": "text/x-python",
   "name": "python",
   "nbconvert_exporter": "python",
   "pygments_lexer": "ipython3",
   "version": "3.11.4"
  }
 },
 "nbformat": 4,
 "nbformat_minor": 5
}
