{
 "cells": [
  {
   "cell_type": "markdown",
   "id": "14bc75dc",
   "metadata": {},
   "source": [
    "# Trần Xuân Triển - B20DCCN691"
   ]
  },
  {
   "cell_type": "markdown",
   "id": "e7193f22",
   "metadata": {},
   "source": [
    "# câu 1"
   ]
  },
  {
   "cell_type": "code",
   "execution_count": 1,
   "id": "a4ed28e5",
   "metadata": {},
   "outputs": [],
   "source": [
    "\n",
    "import pandas as pd\n",
    "import numpy as np\n",
    "from sklearn.linear_model import LinearRegression\n",
    "from sklearn.model_selection import train_test_split\n",
    "\n",
    "for i in range(1,3):\n",
    "    fname = 'data_pttk_'+str(i)\n",
    "    ex_file = fname + '.xlsx' \n",
    "    df = pd.read_excel(ex_file)\n",
    "    df = df.dropna(axis = 1, how = 'all')\n",
    "    df = df.dropna(axis = 0, how = 'any')\n",
    "    \n",
    "    df.to_csv(fname + '.csv')"
   ]
  },
  {
   "cell_type": "markdown",
   "id": "24bd45a5",
   "metadata": {},
   "source": [
    "# câu 2 3"
   ]
  },
  {
   "cell_type": "code",
   "execution_count": 2,
   "id": "25349536",
   "metadata": {},
   "outputs": [],
   "source": [
    "df1 = pd.read_csv('data_pttk_1.csv', index_col=None)\n",
    "df1 = df1[['0.1','0.1.1','0.2','điểm thi']]\n",
    "df2 = pd.read_csv('data_pttk_2.csv', index_col=None)\n",
    "df2 = df2[['0.1','0.1.1','0.2','điểm thi']]\n",
    "df3 = pd.read_csv('data_pttk_3'+'.csv', index_col=None)\n",
    "df3 = df3[['10%','20%','20%.1','Thi']]\n",
    "df3.columns = ['0.1','0.1.1','0.2','điểm thi']\n",
    "\n",
    "merged_df = pd.concat([df1, df2, df3], ignore_index=True)\n",
    "merged_df.columns = ['10%','10%','20%',\"Điểm thi\"]\n",
    "merged_df.to_csv('data_pttk.csv', index=False)"
   ]
  },
  {
   "cell_type": "code",
   "execution_count": 3,
   "id": "aaa85775",
   "metadata": {},
   "outputs": [
    {
     "name": "stdout",
     "output_type": "stream",
     "text": [
      "       10%  10%.1   20%  Điểm thi\n",
      "0     9.00   7.00  6.00      6.00\n",
      "1     9.00   7.00  6.00      6.00\n",
      "2    10.00   9.00  7.00      7.25\n",
      "3     9.00   7.00  6.00      6.00\n",
      "4    10.00   8.00  7.00      7.50\n",
      "..     ...    ...   ...       ...\n",
      "146   8.25   7.75  8.25      8.00\n",
      "147   3.50   3.25  6.00      6.50\n",
      "148   7.25   6.50  6.00      6.50\n",
      "149   7.75   3.50  7.50      7.50\n",
      "150   0.00   0.00  0.00      0.00\n",
      "\n",
      "[151 rows x 4 columns]\n"
     ]
    }
   ],
   "source": [
    "df = pd.read_csv('data_pttk.csv')\n",
    "print(df)"
   ]
  },
  {
   "cell_type": "code",
   "execution_count": 4,
   "id": "287177e9",
   "metadata": {},
   "outputs": [
    {
     "name": "stdout",
     "output_type": "stream",
     "text": [
      "       10%  10%.1   20%\n",
      "0     9.00   7.00  6.00\n",
      "1     9.00   7.00  6.00\n",
      "2    10.00   9.00  7.00\n",
      "3     9.00   7.00  6.00\n",
      "4    10.00   8.00  7.00\n",
      "..     ...    ...   ...\n",
      "146   8.25   7.75  8.25\n",
      "147   3.50   3.25  6.00\n",
      "148   7.25   6.50  6.00\n",
      "149   7.75   3.50  7.50\n",
      "150   0.00   0.00  0.00\n",
      "\n",
      "[151 rows x 3 columns]\n",
      "0      6.00\n",
      "1      6.00\n",
      "2      7.25\n",
      "3      6.00\n",
      "4      7.50\n",
      "       ... \n",
      "146    8.00\n",
      "147    6.50\n",
      "148    6.50\n",
      "149    7.50\n",
      "150    0.00\n",
      "Name: Điểm thi, Length: 151, dtype: float64\n"
     ]
    }
   ],
   "source": [
    "X = df[['10%','10%.1','20%']]\n",
    "y = df['Điểm thi']\n",
    "print(X)\n",
    "print(y)"
   ]
  },
  {
   "cell_type": "markdown",
   "id": "a5237837",
   "metadata": {},
   "source": [
    "# Câu 4\n"
   ]
  },
  {
   "cell_type": "code",
   "execution_count": 5,
   "id": "8ae81677",
   "metadata": {},
   "outputs": [
    {
     "data": {
      "text/html": [
       "<style>#sk-container-id-1 {color: black;}#sk-container-id-1 pre{padding: 0;}#sk-container-id-1 div.sk-toggleable {background-color: white;}#sk-container-id-1 label.sk-toggleable__label {cursor: pointer;display: block;width: 100%;margin-bottom: 0;padding: 0.3em;box-sizing: border-box;text-align: center;}#sk-container-id-1 label.sk-toggleable__label-arrow:before {content: \"▸\";float: left;margin-right: 0.25em;color: #696969;}#sk-container-id-1 label.sk-toggleable__label-arrow:hover:before {color: black;}#sk-container-id-1 div.sk-estimator:hover label.sk-toggleable__label-arrow:before {color: black;}#sk-container-id-1 div.sk-toggleable__content {max-height: 0;max-width: 0;overflow: hidden;text-align: left;background-color: #f0f8ff;}#sk-container-id-1 div.sk-toggleable__content pre {margin: 0.2em;color: black;border-radius: 0.25em;background-color: #f0f8ff;}#sk-container-id-1 input.sk-toggleable__control:checked~div.sk-toggleable__content {max-height: 200px;max-width: 100%;overflow: auto;}#sk-container-id-1 input.sk-toggleable__control:checked~label.sk-toggleable__label-arrow:before {content: \"▾\";}#sk-container-id-1 div.sk-estimator input.sk-toggleable__control:checked~label.sk-toggleable__label {background-color: #d4ebff;}#sk-container-id-1 div.sk-label input.sk-toggleable__control:checked~label.sk-toggleable__label {background-color: #d4ebff;}#sk-container-id-1 input.sk-hidden--visually {border: 0;clip: rect(1px 1px 1px 1px);clip: rect(1px, 1px, 1px, 1px);height: 1px;margin: -1px;overflow: hidden;padding: 0;position: absolute;width: 1px;}#sk-container-id-1 div.sk-estimator {font-family: monospace;background-color: #f0f8ff;border: 1px dotted black;border-radius: 0.25em;box-sizing: border-box;margin-bottom: 0.5em;}#sk-container-id-1 div.sk-estimator:hover {background-color: #d4ebff;}#sk-container-id-1 div.sk-parallel-item::after {content: \"\";width: 100%;border-bottom: 1px solid gray;flex-grow: 1;}#sk-container-id-1 div.sk-label:hover label.sk-toggleable__label {background-color: #d4ebff;}#sk-container-id-1 div.sk-serial::before {content: \"\";position: absolute;border-left: 1px solid gray;box-sizing: border-box;top: 0;bottom: 0;left: 50%;z-index: 0;}#sk-container-id-1 div.sk-serial {display: flex;flex-direction: column;align-items: center;background-color: white;padding-right: 0.2em;padding-left: 0.2em;position: relative;}#sk-container-id-1 div.sk-item {position: relative;z-index: 1;}#sk-container-id-1 div.sk-parallel {display: flex;align-items: stretch;justify-content: center;background-color: white;position: relative;}#sk-container-id-1 div.sk-item::before, #sk-container-id-1 div.sk-parallel-item::before {content: \"\";position: absolute;border-left: 1px solid gray;box-sizing: border-box;top: 0;bottom: 0;left: 50%;z-index: -1;}#sk-container-id-1 div.sk-parallel-item {display: flex;flex-direction: column;z-index: 1;position: relative;background-color: white;}#sk-container-id-1 div.sk-parallel-item:first-child::after {align-self: flex-end;width: 50%;}#sk-container-id-1 div.sk-parallel-item:last-child::after {align-self: flex-start;width: 50%;}#sk-container-id-1 div.sk-parallel-item:only-child::after {width: 0;}#sk-container-id-1 div.sk-dashed-wrapped {border: 1px dashed gray;margin: 0 0.4em 0.5em 0.4em;box-sizing: border-box;padding-bottom: 0.4em;background-color: white;}#sk-container-id-1 div.sk-label label {font-family: monospace;font-weight: bold;display: inline-block;line-height: 1.2em;}#sk-container-id-1 div.sk-label-container {text-align: center;}#sk-container-id-1 div.sk-container {/* jupyter's `normalize.less` sets `[hidden] { display: none; }` but bootstrap.min.css set `[hidden] { display: none !important; }` so we also need the `!important` here to be able to override the default hidden behavior on the sphinx rendered scikit-learn.org. See: https://github.com/scikit-learn/scikit-learn/issues/21755 */display: inline-block !important;position: relative;}#sk-container-id-1 div.sk-text-repr-fallback {display: none;}</style><div id=\"sk-container-id-1\" class=\"sk-top-container\"><div class=\"sk-text-repr-fallback\"><pre>LinearRegression(fit_intercept=False)</pre><b>In a Jupyter environment, please rerun this cell to show the HTML representation or trust the notebook. <br />On GitHub, the HTML representation is unable to render, please try loading this page with nbviewer.org.</b></div><div class=\"sk-container\" hidden><div class=\"sk-item\"><div class=\"sk-estimator sk-toggleable\"><input class=\"sk-toggleable__control sk-hidden--visually\" id=\"sk-estimator-id-1\" type=\"checkbox\" checked><label for=\"sk-estimator-id-1\" class=\"sk-toggleable__label sk-toggleable__label-arrow\">LinearRegression</label><div class=\"sk-toggleable__content\"><pre>LinearRegression(fit_intercept=False)</pre></div></div></div></div></div>"
      ],
      "text/plain": [
       "LinearRegression(fit_intercept=False)"
      ]
     },
     "execution_count": 5,
     "metadata": {},
     "output_type": "execute_result"
    }
   ],
   "source": [
    "import pandas as pd\n",
    "import numpy as np\n",
    "from sklearn.linear_model import LinearRegression\n",
    "from sklearn.model_selection import train_test_split\n",
    "\n",
    "X_train, X_test, y_train, y_test = train_test_split(X,y, test_size = 0.2, random_state = 40)\n",
    "\n",
    "model = LinearRegression(fit_intercept=False)\n",
    "model.fit(X=X_train, y=y_train)"
   ]
  },
  {
   "cell_type": "code",
   "execution_count": 6,
   "id": "0da217b3",
   "metadata": {},
   "outputs": [
    {
     "name": "stdout",
     "output_type": "stream",
     "text": [
      "Điểm 10%: 6.5\n",
      "Điểm 10%: 7\n",
      "Điểm 20%: 8\n",
      "[8.1725737]\n"
     ]
    },
    {
     "name": "stderr",
     "output_type": "stream",
     "text": [
      "C:\\Users\\Admin\\anaconda3\\Lib\\site-packages\\sklearn\\base.py:464: UserWarning: X does not have valid feature names, but LinearRegression was fitted with feature names\n",
      "  warnings.warn(\n"
     ]
    }
   ],
   "source": [
    "d1 = float(input('Điểm 10%: '))\n",
    "d2 = float(input('Điểm 10%: '))\n",
    "d3 = float(input('Điểm 20%: '))\n",
    "\n",
    "predicted = model.predict([[d1,d2,d3]])\n",
    "print(predicted)"
   ]
  },
  {
   "cell_type": "markdown",
   "id": "e604fb2e",
   "metadata": {},
   "source": [
    "# Câu 5 6"
   ]
  },
  {
   "cell_type": "code",
   "execution_count": 8,
   "id": "735e7099",
   "metadata": {},
   "outputs": [
    {
     "name": "stdout",
     "output_type": "stream",
     "text": [
      "Epoch 1/50\n",
      "4/4 [==============================] - 1s 3ms/step - loss: 70.3104\n",
      "Epoch 2/50\n",
      "4/4 [==============================] - 0s 0s/step - loss: 66.5281\n",
      "Epoch 3/50\n",
      "4/4 [==============================] - 0s 2ms/step - loss: 63.0081\n",
      "Epoch 4/50\n",
      "4/4 [==============================] - 0s 2ms/step - loss: 59.6902\n",
      "Epoch 5/50\n",
      "4/4 [==============================] - 0s 1ms/step - loss: 56.5560\n",
      "Epoch 6/50\n",
      "4/4 [==============================] - 0s 4ms/step - loss: 53.9825\n",
      "Epoch 7/50\n",
      "4/4 [==============================] - 0s 4ms/step - loss: 51.9656\n",
      "Epoch 8/50\n",
      "4/4 [==============================] - 0s 1ms/step - loss: 50.1587\n",
      "Epoch 9/50\n",
      "4/4 [==============================] - 0s 2ms/step - loss: 48.4903\n",
      "Epoch 10/50\n",
      "4/4 [==============================] - 0s 2ms/step - loss: 47.3728\n",
      "Epoch 11/50\n",
      "4/4 [==============================] - 0s 2ms/step - loss: 47.1606\n",
      "Epoch 12/50\n",
      "4/4 [==============================] - 0s 945us/step - loss: 47.0870\n",
      "Epoch 13/50\n",
      "4/4 [==============================] - 0s 5ms/step - loss: 46.9980\n",
      "Epoch 14/50\n",
      "4/4 [==============================] - 0s 2ms/step - loss: 46.8652\n",
      "Epoch 15/50\n",
      "4/4 [==============================] - 0s 4ms/step - loss: 46.5406\n",
      "Epoch 16/50\n",
      "4/4 [==============================] - 0s 0s/step - loss: 45.9205\n",
      "Epoch 17/50\n",
      "4/4 [==============================] - 0s 2ms/step - loss: 44.9988\n",
      "Epoch 18/50\n",
      "4/4 [==============================] - 0s 4ms/step - loss: 43.3590\n",
      "Epoch 19/50\n",
      "4/4 [==============================] - 0s 3ms/step - loss: 41.4238\n",
      "Epoch 20/50\n",
      "4/4 [==============================] - 0s 1ms/step - loss: 39.2336\n",
      "Epoch 21/50\n",
      "4/4 [==============================] - 0s 1ms/step - loss: 36.9576\n",
      "Epoch 22/50\n",
      "4/4 [==============================] - 0s 0s/step - loss: 34.6488\n",
      "Epoch 23/50\n",
      "4/4 [==============================] - 0s 2ms/step - loss: 32.3643\n",
      "Epoch 24/50\n",
      "4/4 [==============================] - 0s 2ms/step - loss: 30.0322\n",
      "Epoch 25/50\n",
      "4/4 [==============================] - 0s 3ms/step - loss: 27.7996\n",
      "Epoch 26/50\n",
      "4/4 [==============================] - 0s 2ms/step - loss: 25.5756\n",
      "Epoch 27/50\n",
      "4/4 [==============================] - 0s 2ms/step - loss: 23.4373\n",
      "Epoch 28/50\n",
      "4/4 [==============================] - 0s 5ms/step - loss: 21.4104\n",
      "Epoch 29/50\n",
      "4/4 [==============================] - 0s 2ms/step - loss: 19.4354\n",
      "Epoch 30/50\n",
      "4/4 [==============================] - 0s 0s/step - loss: 17.5089\n",
      "Epoch 31/50\n",
      "4/4 [==============================] - 0s 3ms/step - loss: 15.7320\n",
      "Epoch 32/50\n",
      "4/4 [==============================] - 0s 3ms/step - loss: 14.0308\n",
      "Epoch 33/50\n",
      "4/4 [==============================] - 0s 5ms/step - loss: 12.4621\n",
      "Epoch 34/50\n",
      "4/4 [==============================] - 0s 4ms/step - loss: 11.0048\n",
      "Epoch 35/50\n",
      "4/4 [==============================] - 0s 0s/step - loss: 9.6086\n",
      "Epoch 36/50\n",
      "4/4 [==============================] - 0s 1ms/step - loss: 8.3966\n",
      "Epoch 37/50\n",
      "4/4 [==============================] - 0s 5ms/step - loss: 7.2505\n",
      "Epoch 38/50\n",
      "4/4 [==============================] - 0s 3ms/step - loss: 6.2371\n",
      "Epoch 39/50\n",
      "4/4 [==============================] - 0s 3ms/step - loss: 5.3354\n",
      "Epoch 40/50\n",
      "4/4 [==============================] - 0s 3ms/step - loss: 4.5474\n",
      "Epoch 41/50\n",
      "4/4 [==============================] - 0s 1ms/step - loss: 3.8628\n",
      "Epoch 42/50\n",
      "4/4 [==============================] - 0s 1ms/step - loss: 3.2598\n",
      "Epoch 43/50\n",
      "4/4 [==============================] - 0s 2ms/step - loss: 2.7559\n",
      "Epoch 44/50\n",
      "4/4 [==============================] - 0s 0s/step - loss: 2.3429\n",
      "Epoch 45/50\n",
      "4/4 [==============================] - 0s 2ms/step - loss: 1.9841\n",
      "Epoch 46/50\n",
      "4/4 [==============================] - 0s 2ms/step - loss: 1.7090\n",
      "Epoch 47/50\n",
      "4/4 [==============================] - 0s 2ms/step - loss: 1.4882\n",
      "Epoch 48/50\n",
      "4/4 [==============================] - 0s 3ms/step - loss: 1.2989\n",
      "Epoch 49/50\n",
      "4/4 [==============================] - 0s 0s/step - loss: 1.1825\n",
      "Epoch 50/50\n",
      "4/4 [==============================] - 0s 497us/step - loss: 1.0675\n",
      "1/1 [==============================] - 0s 78ms/step - loss: 0.9158\n",
      "Loss trên tập kiểm tra: 0.9158230423927307\n",
      "Điểm 10%: 6\n",
      "Điểm 10%: 7\n",
      "Điểm 20%: 8\n",
      "1/1 [==============================] - 0s 35ms/step\n",
      "Dự đoán điểm thi: [[6.800637]]\n"
     ]
    }
   ],
   "source": [
    "import tensorflow as tf\n",
    "from sklearn.model_selection import train_test_split\n",
    "\n",
    "# Chia dữ liệu thành tập huấn luyện và tập kiểm tra\n",
    "X_train, X_test, y_train, y_test = train_test_split(X, y, test_size=0.2, random_state=40)\n",
    "\n",
    "# Xây dựng mô hình Sequential\n",
    "model2 = tf.keras.Sequential([\n",
    "    tf.keras.layers.Dense(16, activation='relu', input_shape=(3,)),  # Lớp ẩn với 16 nơ-ron và ReLU activation\n",
    "    tf.keras.layers.Dense(8, activation='relu'),  # Lớp ẩn với 8 nơ-ron và ReLU activation\n",
    "    tf.keras.layers.Dense(1)  # Lớp đầu ra\n",
    "])\n",
    "\n",
    "# Biên dịch mô hình\n",
    "model2.compile(optimizer='adam', loss='mean_squared_error')  # Sử dụng mean squared error loss\n",
    "\n",
    "# Huấn luyện mô hình trên tập huấn luyện\n",
    "model2.fit(X_train, y_train, epochs=50, verbose=1)  # Chạy 100 epoch\n",
    "\n",
    "#câu 6\n",
    "\n",
    "# Đánh giá mô hình trên tập kiểm tra\n",
    "loss = model2.evaluate(X_test, y_test, verbose=1)\n",
    "print(\"Loss trên tập kiểm tra:\", loss)\n",
    "\n",
    "# Dự đoán điểm thi cho một ví dụ mới\n",
    "d1 = float(input('Điểm 10%: '))\n",
    "d2 = float(input('Điểm 10%: '))\n",
    "d3 = float(input('Điểm 20%: '))\n",
    "\n",
    "new_data = np.array([[d1, d2, d3]])\n",
    "predicted = model2.predict(new_data)\n",
    "\n",
    "print(\"Dự đoán điểm thi:\", predicted)"
   ]
  },
  {
   "cell_type": "code",
   "execution_count": null,
   "id": "f0810e92",
   "metadata": {},
   "outputs": [],
   "source": []
  }
 ],
 "metadata": {
  "kernelspec": {
   "display_name": "Python 3 (ipykernel)",
   "language": "python",
   "name": "python3"
  },
  "language_info": {
   "codemirror_mode": {
    "name": "ipython",
    "version": 3
   },
   "file_extension": ".py",
   "mimetype": "text/x-python",
   "name": "python",
   "nbconvert_exporter": "python",
   "pygments_lexer": "ipython3",
   "version": "3.11.4"
  }
 },
 "nbformat": 4,
 "nbformat_minor": 5
}
