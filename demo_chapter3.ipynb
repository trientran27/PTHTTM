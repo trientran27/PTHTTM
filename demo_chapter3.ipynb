{
 "cells": [
  {
   "cell_type": "code",
   "execution_count": 1,
   "id": "3df81fb4",
   "metadata": {},
   "outputs": [],
   "source": [
    "import pandas as pd"
   ]
  },
  {
   "cell_type": "code",
   "execution_count": 2,
   "id": "ab07d1a4",
   "metadata": {},
   "outputs": [
    {
     "name": "stdout",
     "output_type": "stream",
     "text": [
      "0    1\n",
      "1    2\n",
      "2    3\n",
      "3    4\n",
      "4    5\n",
      "dtype: int64\n"
     ]
    }
   ],
   "source": [
    "series = pd.Series([1,2,3,4,5]) #tạo 1 series\n",
    "print(series)"
   ]
  },
  {
   "cell_type": "code",
   "execution_count": 3,
   "id": "96da5041",
   "metadata": {},
   "outputs": [
    {
     "name": "stdout",
     "output_type": "stream",
     "text": [
      "a    1\n",
      "b    2\n",
      "c    3\n",
      "d    4\n",
      "c    5\n",
      "dtype: int64\n"
     ]
    }
   ],
   "source": [
    "#thay vì như mảng là chỉ mục là các số thì series có thể tùy ý đặt tên cho chỉ mục mong muốn\n",
    "series = pd.Series([1,2,3,4,5], index=['a','b','c','d','c'])\n",
    "print(series)"
   ]
  },
  {
   "cell_type": "code",
   "execution_count": 4,
   "id": "6992d54b",
   "metadata": {},
   "outputs": [
    {
     "name": "stdout",
     "output_type": "stream",
     "text": [
      "3\n"
     ]
    }
   ],
   "source": [
    "print(series[2])"
   ]
  },
  {
   "cell_type": "code",
   "execution_count": 6,
   "id": "c6b41216",
   "metadata": {},
   "outputs": [
    {
     "name": "stdout",
     "output_type": "stream",
     "text": [
      "c    3\n",
      "c    5\n",
      "dtype: int64\n"
     ]
    }
   ],
   "source": [
    "print(series['c'])"
   ]
  },
  {
   "cell_type": "code",
   "execution_count": 7,
   "id": "9be71da4",
   "metadata": {},
   "outputs": [
    {
     "name": "stdout",
     "output_type": "stream",
     "text": [
      "c    3\n",
      "d    4\n",
      "c    5\n",
      "dtype: int64\n",
      "c    3\n",
      "d    4\n",
      "c    5\n",
      "dtype: int64\n"
     ]
    }
   ],
   "source": [
    "print(series[2:]) \n",
    "print(series.iloc[2:])"
   ]
  },
  {
   "cell_type": "code",
   "execution_count": 8,
   "id": "e3c25930",
   "metadata": {},
   "outputs": [
    {
     "name": "stdout",
     "output_type": "stream",
     "text": [
      "DatetimeIndex(['2019-05-25', '2019-05-26', '2019-05-27', '2019-05-28',\n",
      "               '2019-05-29', '2019-05-30', '2019-05-31', '2019-06-01',\n",
      "               '2019-06-02', '2019-06-03', '2019-06-04', '2019-06-05'],\n",
      "              dtype='datetime64[ns]', freq='D')\n"
     ]
    }
   ],
   "source": [
    "dates1 = pd.date_range('20190525', periods=12)\n",
    "# tạo 1 dãy ngày liên tiếp bắt đầu từ 25 và kéo dài 12 ngày\n",
    "print(dates1)"
   ]
  },
  {
   "cell_type": "code",
   "execution_count": 9,
   "id": "e7b9fe13",
   "metadata": {},
   "outputs": [
    {
     "name": "stdout",
     "output_type": "stream",
     "text": [
      "2019-05-25     1\n",
      "2019-05-26     2\n",
      "2019-05-27     3\n",
      "2019-05-28     4\n",
      "2019-05-29     5\n",
      "2019-05-30     6\n",
      "2019-05-31     7\n",
      "2019-06-01     8\n",
      "2019-06-02     9\n",
      "2019-06-03    10\n",
      "2019-06-04    11\n",
      "2019-06-05    12\n",
      "Freq: D, dtype: int64\n"
     ]
    }
   ],
   "source": [
    "series = pd.Series([1,2,3,4,5,6,7,8,9,10,11,12])\n",
    "series.index = dates1 #lấy chuỗi dates1 tạo trước đó gán làm chỉ mục\n",
    "print(series)"
   ]
  },
  {
   "cell_type": "code",
   "execution_count": 10,
   "id": "8fac9f77",
   "metadata": {},
   "outputs": [
    {
     "name": "stdout",
     "output_type": "stream",
     "text": [
      "DatetimeIndex(['2019-05-31', '2019-06-30', '2019-07-31', '2019-08-31',\n",
      "               '2019-09-30', '2019-10-31', '2019-11-30', '2019-12-31',\n",
      "               '2020-01-31', '2020-02-29', '2020-03-31', '2020-04-30'],\n",
      "              dtype='datetime64[ns]', freq='M')\n"
     ]
    }
   ],
   "source": [
    "dates2 = pd.date_range('2019-05-01', periods=12, freq='M')\n",
    "#giá trị freq là chỉ tần suất ngày cuối cùng của tháng\n",
    "print(dates2)"
   ]
  },
  {
   "cell_type": "code",
   "execution_count": 11,
   "id": "4a69296f",
   "metadata": {},
   "outputs": [
    {
     "name": "stdout",
     "output_type": "stream",
     "text": [
      "DatetimeIndex(['2019-05-01', '2019-06-01', '2019-07-01', '2019-08-01',\n",
      "               '2019-09-01', '2019-10-01', '2019-11-01', '2019-12-01',\n",
      "               '2020-01-01', '2020-02-01', '2020-03-01', '2020-04-01'],\n",
      "              dtype='datetime64[ns]', freq='MS')\n"
     ]
    }
   ],
   "source": [
    "#nếu muốn ngày bắt đầu của tháng thì đặt giá trị freq=\"MS\"\n",
    "dates2 = pd.date_range('2019-05-01', periods=12, freq='MS')\n",
    "print(dates2)"
   ]
  },
  {
   "cell_type": "code",
   "execution_count": 13,
   "id": "ebce3cc0",
   "metadata": {},
   "outputs": [],
   "source": [
    "#lưu ý định dang yyyy-dd-MM"
   ]
  },
  {
   "cell_type": "code",
   "execution_count": 14,
   "id": "3605951b",
   "metadata": {},
   "outputs": [
    {
     "name": "stdout",
     "output_type": "stream",
     "text": [
      "DatetimeIndex(['2019-05-17 09:00:00', '2019-05-17 10:00:00',\n",
      "               '2019-05-17 11:00:00', '2019-05-17 12:00:00',\n",
      "               '2019-05-17 13:00:00', '2019-05-17 14:00:00',\n",
      "               '2019-05-17 15:00:00', '2019-05-17 16:00:00'],\n",
      "              dtype='datetime64[ns]', freq='H')\n"
     ]
    }
   ],
   "source": [
    "#ngoài cài đặt ngày thì có thể cài đặt thêm giờ\n",
    "dates3 = pd.date_range('2019/05/17 09:00:00', periods=8, freq='H')\n",
    "#tần suất freq='H' mỗi ngày chênh nhau 1 giờ\n",
    "print(dates3)"
   ]
  },
  {
   "cell_type": "code",
   "execution_count": 15,
   "id": "a5f7436f",
   "metadata": {},
   "outputs": [],
   "source": [
    "#63 khung dữ liệu cấu trúc DataFrame"
   ]
  },
  {
   "cell_type": "code",
   "execution_count": 4,
   "id": "e5d92a42",
   "metadata": {},
   "outputs": [],
   "source": [
    "import pandas as pd\n",
    "import numpy as np"
   ]
  },
  {
   "cell_type": "code",
   "execution_count": 5,
   "id": "52f86744",
   "metadata": {},
   "outputs": [
    {
     "name": "stdout",
     "output_type": "stream",
     "text": [
      "          A         B         C         D\n",
      "0  0.756357 -1.482774 -1.625920  0.084161\n",
      "1 -1.076687 -1.266881 -0.900162 -1.272279\n",
      "2 -1.405621  0.743820 -2.384769  1.122924\n",
      "3 -0.247678  0.060031 -2.408409  0.117069\n",
      "4 -0.437599 -0.550319 -1.066857  0.386376\n",
      "5  2.097616  0.269024 -0.407725 -0.341558\n",
      "6  0.290844 -0.551249  1.026737  1.409417\n",
      "7  0.653839  1.233693  0.509402  0.978697\n",
      "8  1.062862  2.069812 -1.029590 -0.047118\n",
      "9 -1.005626  0.515990 -0.692431 -0.544852\n"
     ]
    }
   ],
   "source": [
    "df = pd.DataFrame(np.random.randn(10,4), \n",
    "columns=list('ABCD'))\n",
    "#tạo ma trận 2 chiều 10 hàng 4 cột, tên các cột nằm trong list\n",
    "#giá trị trung bình là 0 xoay quanh độ lệch 1\n",
    "print(df)"
   ]
  },
  {
   "cell_type": "code",
   "execution_count": 21,
   "id": "9c2f02cf",
   "metadata": {},
   "outputs": [],
   "source": [
    "#df = pd.read_csv('data.csv')"
   ]
  },
  {
   "cell_type": "code",
   "execution_count": 6,
   "id": "1dfca911",
   "metadata": {},
   "outputs": [
    {
     "name": "stdout",
     "output_type": "stream",
     "text": [
      "                   A         B         C         D\n",
      "2019-05-25  0.756357 -1.482774 -1.625920  0.084161\n",
      "2019-05-26 -1.076687 -1.266881 -0.900162 -1.272279\n",
      "2019-05-27 -1.405621  0.743820 -2.384769  1.122924\n",
      "2019-05-28 -0.247678  0.060031 -2.408409  0.117069\n",
      "2019-05-29 -0.437599 -0.550319 -1.066857  0.386376\n",
      "2019-05-30  2.097616  0.269024 -0.407725 -0.341558\n",
      "2019-05-31  0.290844 -0.551249  1.026737  1.409417\n",
      "2019-06-01  0.653839  1.233693  0.509402  0.978697\n",
      "2019-06-02  1.062862  2.069812 -1.029590 -0.047118\n",
      "2019-06-03 -1.005626  0.515990 -0.692431 -0.544852\n"
     ]
    }
   ],
   "source": [
    "days = pd.date_range('20190525', periods=10)\n",
    "df.index = days #thêm cột chỉ mục ngày tháng vào\n",
    "print(df)"
   ]
  },
  {
   "cell_type": "code",
   "execution_count": 7,
   "id": "c7723c60",
   "metadata": {},
   "outputs": [
    {
     "name": "stdout",
     "output_type": "stream",
     "text": [
      "DatetimeIndex(['2019-05-25', '2019-05-26', '2019-05-27', '2019-05-28',\n",
      "               '2019-05-29', '2019-05-30', '2019-05-31', '2019-06-01',\n",
      "               '2019-06-02', '2019-06-03'],\n",
      "              dtype='datetime64[ns]', freq='D')\n"
     ]
    }
   ],
   "source": [
    "#lấy thuộc tính chỉ mục\n",
    "print(df.index)"
   ]
  },
  {
   "cell_type": "code",
   "execution_count": 24,
   "id": "83ea9b08",
   "metadata": {},
   "outputs": [],
   "source": [
    "#lấy giá trị"
   ]
  },
  {
   "cell_type": "code",
   "execution_count": 8,
   "id": "0bc08d13",
   "metadata": {},
   "outputs": [
    {
     "name": "stdout",
     "output_type": "stream",
     "text": [
      "[[ 0.75635714 -1.48277403 -1.62592006  0.08416055]\n",
      " [-1.0766867  -1.26688103 -0.90016229 -1.27227926]\n",
      " [-1.40562064  0.74382006 -2.38476926  1.12292414]\n",
      " [-0.24767828  0.06003149 -2.40840862  0.11706897]\n",
      " [-0.4375986  -0.55031894 -1.0668573   0.38637639]\n",
      " [ 2.09761593  0.26902389 -0.40772544 -0.34155828]\n",
      " [ 0.29084423 -0.55124908  1.02673709  1.40941685]\n",
      " [ 0.65383853  1.23369255  0.50940222  0.97869736]\n",
      " [ 1.06286189  2.06981211 -1.02958955 -0.04711752]\n",
      " [-1.00562634  0.51599041 -0.69243081 -0.54485156]]\n"
     ]
    }
   ],
   "source": [
    "print(df.values)"
   ]
  },
  {
   "cell_type": "code",
   "execution_count": 9,
   "id": "5effb137",
   "metadata": {},
   "outputs": [
    {
     "name": "stdout",
     "output_type": "stream",
     "text": [
      "               A          B          C          D\n",
      "count  10.000000  10.000000  10.000000  10.000000\n",
      "mean    0.068831   0.104115  -0.897972   0.189284\n",
      "std     1.103812   1.105720   1.107326   0.819993\n",
      "min    -1.405621  -1.482774  -2.408409  -1.272279\n",
      "25%    -0.863619  -0.551017  -1.486154  -0.267948\n",
      "50%     0.021583   0.164528  -0.964876   0.100615\n",
      "75%     0.730727   0.686863  -0.478902   0.830617\n",
      "max     2.097616   2.069812   1.026737   1.409417\n"
     ]
    }
   ],
   "source": [
    "print(df.describe())\n",
    "#hàm lấy số lương(count), trung bình(mean), tiêu chuẩn độ lêch(std), min, mã và 1 số tiêu chuẩn khác"
   ]
  },
  {
   "cell_type": "code",
   "execution_count": 10,
   "id": "6c613aaa",
   "metadata": {},
   "outputs": [
    {
     "name": "stdout",
     "output_type": "stream",
     "text": [
      "A    0.068831\n",
      "B    0.104115\n",
      "C   -0.897972\n",
      "D    0.189284\n",
      "dtype: float64\n"
     ]
    }
   ],
   "source": [
    "print(df.mean(0)) #0 có nghĩa là lấy giá trị trung bình trên 1 cột"
   ]
  },
  {
   "cell_type": "code",
   "execution_count": 11,
   "id": "47151d67",
   "metadata": {},
   "outputs": [
    {
     "name": "stdout",
     "output_type": "stream",
     "text": [
      "2019-05-25   -0.567044\n",
      "2019-05-26   -1.129002\n",
      "2019-05-27   -0.480911\n",
      "2019-05-28   -0.619747\n",
      "2019-05-29   -0.417100\n",
      "2019-05-30    0.404339\n",
      "2019-05-31    0.543937\n",
      "2019-06-01    0.843908\n",
      "2019-06-02    0.513992\n",
      "2019-06-03   -0.431730\n",
      "Freq: D, dtype: float64\n"
     ]
    }
   ],
   "source": [
    "print(df.mean(1)) #1 có nghĩa là lấy giá trị trung bình trên 1 hàng"
   ]
  },
  {
   "cell_type": "code",
   "execution_count": 12,
   "id": "4a4f414a",
   "metadata": {},
   "outputs": [
    {
     "name": "stdout",
     "output_type": "stream",
     "text": [
      "                   A         B         C         D\n",
      "2019-05-25  0.756357 -1.482774 -1.625920  0.084161\n",
      "2019-05-26 -1.076687 -1.266881 -0.900162 -1.272279\n",
      "2019-05-27 -1.405621  0.743820 -2.384769  1.122924\n",
      "2019-05-28 -0.247678  0.060031 -2.408409  0.117069\n",
      "2019-05-29 -0.437599 -0.550319 -1.066857  0.386376\n"
     ]
    }
   ],
   "source": [
    "print(df.head()) #lấy 5 hàng đầu trong khung dữ liệu cấu trúc(dataFrame)"
   ]
  },
  {
   "cell_type": "code",
   "execution_count": 13,
   "id": "fa7c4d31",
   "metadata": {},
   "outputs": [
    {
     "name": "stdout",
     "output_type": "stream",
     "text": [
      "                   A         B         C         D\n",
      "2019-05-25  0.756357 -1.482774 -1.625920  0.084161\n",
      "2019-05-26 -1.076687 -1.266881 -0.900162 -1.272279\n",
      "2019-05-27 -1.405621  0.743820 -2.384769  1.122924\n",
      "2019-05-28 -0.247678  0.060031 -2.408409  0.117069\n",
      "2019-05-29 -0.437599 -0.550319 -1.066857  0.386376\n",
      "2019-05-30  2.097616  0.269024 -0.407725 -0.341558\n",
      "2019-05-31  0.290844 -0.551249  1.026737  1.409417\n",
      "2019-06-01  0.653839  1.233693  0.509402  0.978697\n"
     ]
    }
   ],
   "source": [
    "print(df.head(8)) #thêm chỉ số bên trong thì sẽ hiện ra số hàng tương ứng"
   ]
  },
  {
   "cell_type": "code",
   "execution_count": 14,
   "id": "53fc27a5",
   "metadata": {},
   "outputs": [
    {
     "name": "stdout",
     "output_type": "stream",
     "text": [
      "                   A         B         C         D\n",
      "2019-05-30  2.097616  0.269024 -0.407725 -0.341558\n",
      "2019-05-31  0.290844 -0.551249  1.026737  1.409417\n",
      "2019-06-01  0.653839  1.233693  0.509402  0.978697\n",
      "2019-06-02  1.062862  2.069812 -1.029590 -0.047118\n",
      "2019-06-03 -1.005626  0.515990 -0.692431 -0.544852\n"
     ]
    }
   ],
   "source": [
    "print(df.tail()) #5 hàng cuối"
   ]
  },
  {
   "cell_type": "code",
   "execution_count": 15,
   "id": "7b67a78b",
   "metadata": {},
   "outputs": [
    {
     "name": "stdout",
     "output_type": "stream",
     "text": [
      "                   A         B         C         D\n",
      "2019-05-27 -1.405621  0.743820 -2.384769  1.122924\n",
      "2019-05-28 -0.247678  0.060031 -2.408409  0.117069\n",
      "2019-05-29 -0.437599 -0.550319 -1.066857  0.386376\n",
      "2019-05-30  2.097616  0.269024 -0.407725 -0.341558\n",
      "2019-05-31  0.290844 -0.551249  1.026737  1.409417\n",
      "2019-06-01  0.653839  1.233693  0.509402  0.978697\n",
      "2019-06-02  1.062862  2.069812 -1.029590 -0.047118\n",
      "2019-06-03 -1.005626  0.515990 -0.692431 -0.544852\n"
     ]
    }
   ],
   "source": [
    "print(df.tail(8)) #tương tự có thêm chỉ số bên trong như head()"
   ]
  },
  {
   "cell_type": "code",
   "execution_count": 16,
   "id": "24ea2649",
   "metadata": {},
   "outputs": [
    {
     "name": "stdout",
     "output_type": "stream",
     "text": [
      "2019-05-25    0.756357\n",
      "2019-05-26   -1.076687\n",
      "2019-05-27   -1.405621\n",
      "2019-05-28   -0.247678\n",
      "2019-05-29   -0.437599\n",
      "2019-05-30    2.097616\n",
      "2019-05-31    0.290844\n",
      "2019-06-01    0.653839\n",
      "2019-06-02    1.062862\n",
      "2019-06-03   -1.005626\n",
      "Freq: D, Name: A, dtype: float64\n",
      "2019-05-25    0.756357\n",
      "2019-05-26   -1.076687\n",
      "2019-05-27   -1.405621\n",
      "2019-05-28   -0.247678\n",
      "2019-05-29   -0.437599\n",
      "2019-05-30    2.097616\n",
      "2019-05-31    0.290844\n",
      "2019-06-01    0.653839\n",
      "2019-06-02    1.062862\n",
      "2019-06-03   -1.005626\n",
      "Freq: D, Name: A, dtype: float64\n"
     ]
    }
   ],
   "source": [
    "#68\n",
    "print(df['A'])\n",
    "# same as\n",
    "print(df.A)"
   ]
  },
  {
   "cell_type": "code",
   "execution_count": 17,
   "id": "20f51d3c",
   "metadata": {},
   "outputs": [
    {
     "name": "stdout",
     "output_type": "stream",
     "text": [
      "                   A         B\n",
      "2019-05-25  0.756357 -1.482774\n",
      "2019-05-26 -1.076687 -1.266881\n",
      "2019-05-27 -1.405621  0.743820\n",
      "2019-05-28 -0.247678  0.060031\n",
      "2019-05-29 -0.437599 -0.550319\n",
      "2019-05-30  2.097616  0.269024\n",
      "2019-05-31  0.290844 -0.551249\n",
      "2019-06-01  0.653839  1.233693\n",
      "2019-06-02  1.062862  2.069812\n",
      "2019-06-03 -1.005626  0.515990\n"
     ]
    }
   ],
   "source": [
    "print(df[['A', 'B']]) #lấy theo nhãn cột"
   ]
  },
  {
   "cell_type": "code",
   "execution_count": 18,
   "id": "466575c1",
   "metadata": {},
   "outputs": [
    {
     "name": "stdout",
     "output_type": "stream",
     "text": [
      "                   A         B         C         D\n",
      "2019-05-27 -1.405621  0.743820 -2.384769  1.122924\n",
      "2019-05-28 -0.247678  0.060031 -2.408409  0.117069\n"
     ]
    }
   ],
   "source": [
    "print(df[2:4]) #lấy theo nhãn hàng"
   ]
  },
  {
   "cell_type": "code",
   "execution_count": 19,
   "id": "7584df3a",
   "metadata": {},
   "outputs": [
    {
     "name": "stdout",
     "output_type": "stream",
     "text": [
      "                   A         B         C         D\n",
      "2019-05-27 -1.405621  0.743820 -2.384769  1.122924\n",
      "2019-05-28 -0.247678  0.060031 -2.408409  0.117069\n"
     ]
    }
   ],
   "source": [
    "#tương tự có thể dùng bàng iloc\n",
    "print(df.iloc[2:4])"
   ]
  },
  {
   "cell_type": "code",
   "execution_count": 20,
   "id": "fac7a0ea",
   "metadata": {},
   "outputs": [
    {
     "name": "stdout",
     "output_type": "stream",
     "text": [
      "                   A         B         C         D\n",
      "2019-05-27 -1.405621  0.743820 -2.384769  1.122924\n",
      "2019-05-29 -0.437599 -0.550319 -1.066857  0.386376\n"
     ]
    }
   ],
   "source": [
    "print(df.iloc[[2,4]]) #trích xuất hàng cụ thể"
   ]
  },
  {
   "cell_type": "code",
   "execution_count": 21,
   "id": "2faff73c",
   "metadata": {},
   "outputs": [],
   "source": [
    "#lưu ý\n",
    "#print(df[[2,4]]) # error; need to use the iloc indexer"
   ]
  },
  {
   "cell_type": "code",
   "execution_count": 22,
   "id": "e903e0d9",
   "metadata": {},
   "outputs": [
    {
     "name": "stdout",
     "output_type": "stream",
     "text": [
      "                   B         C         D\n",
      "2019-05-27  0.743820 -2.384769  1.122924\n",
      "2019-05-28  0.060031 -2.408409  0.117069\n"
     ]
    }
   ],
   "source": [
    "#nếu muốn cắt hàng và cột cụ thể thì phải sử dụng chỉ mục iloc()\n",
    "print(df.iloc[2:4, 1:4])"
   ]
  },
  {
   "cell_type": "code",
   "execution_count": 23,
   "id": "9cdcf948",
   "metadata": {},
   "outputs": [
    {
     "name": "stdout",
     "output_type": "stream",
     "text": [
      "                   B         D\n",
      "2019-05-27  0.743820  1.122924\n",
      "2019-05-29 -0.550319  0.386376\n"
     ]
    }
   ],
   "source": [
    "print(df.iloc[[2,4], [1,3]])"
   ]
  },
  {
   "cell_type": "code",
   "execution_count": 24,
   "id": "befcadbc",
   "metadata": {},
   "outputs": [],
   "source": [
    "#tóm lại nếu bạn muốn cắt 1 loạt hàng thì có thể dùng luôn df[x:y], tuy nhiên\n",
    "#nếu muốn lấy hàng hoặc cột cụ thể phải dụng chỉ mục iloc"
   ]
  },
  {
   "cell_type": "code",
   "execution_count": 25,
   "id": "0ab0b4ec",
   "metadata": {},
   "outputs": [],
   "source": [
    "#ngoài cách dùng chỉ mục số hàng để trích xuất thì có thể dùng nhãn giá trị để gọi"
   ]
  },
  {
   "cell_type": "code",
   "execution_count": 30,
   "id": "b71c8b62",
   "metadata": {},
   "outputs": [],
   "source": [
    "#chú ý: hàm iloc là dùng để truy cập dư liệu dựa trên chỉ số, loc dùng để truy cập dữ \n",
    "#liệu dựa trên nhãn"
   ]
  },
  {
   "cell_type": "code",
   "execution_count": 26,
   "id": "e7399d40",
   "metadata": {},
   "outputs": [
    {
     "name": "stdout",
     "output_type": "stream",
     "text": [
      "                   A         B         C         D\n",
      "2019-06-01  0.653839  1.233693  0.509402  0.978697\n",
      "2019-06-02  1.062862  2.069812 -1.029590 -0.047118\n",
      "2019-06-03 -1.005626  0.515990 -0.692431 -0.544852\n"
     ]
    }
   ],
   "source": [
    "print(df['20190601':'20190603'])"
   ]
  },
  {
   "cell_type": "code",
   "execution_count": 27,
   "id": "1fa1cac8",
   "metadata": {},
   "outputs": [
    {
     "name": "stdout",
     "output_type": "stream",
     "text": [
      "                   A         B         C         D\n",
      "2019-06-01  0.653839  1.233693  0.509402  0.978697\n",
      "2019-06-02  1.062862  2.069812 -1.029590 -0.047118\n",
      "2019-06-03 -1.005626  0.515990 -0.692431 -0.544852\n"
     ]
    }
   ],
   "source": [
    "print(df.loc['20190601':'20190603'])"
   ]
  },
  {
   "cell_type": "code",
   "execution_count": 28,
   "id": "7d57ee49",
   "metadata": {},
   "outputs": [
    {
     "name": "stdout",
     "output_type": "stream",
     "text": [
      "                   A         B         C\n",
      "2019-06-01  0.653839  1.233693  0.509402\n",
      "2019-06-02  1.062862  2.069812 -1.029590\n",
      "2019-06-03 -1.005626  0.515990 -0.692431\n"
     ]
    }
   ],
   "source": [
    "print(df.loc['20190601':'20190603', 'A':'C']) #bắt buộc phải dùng loc"
   ]
  },
  {
   "cell_type": "code",
   "execution_count": 29,
   "id": "358dcc2b",
   "metadata": {},
   "outputs": [
    {
     "name": "stdout",
     "output_type": "stream",
     "text": [
      "A    0.653839\n",
      "B    1.233693\n",
      "C    0.509402\n",
      "D    0.978697\n",
      "Name: 2019-06-01 00:00:00, dtype: float64\n"
     ]
    }
   ],
   "source": [
    "print(df.loc['20190601']) #trích xuất hàng cụ thể"
   ]
  },
  {
   "cell_type": "code",
   "execution_count": 31,
   "id": "4537b095",
   "metadata": {},
   "outputs": [
    {
     "name": "stdout",
     "output_type": "stream",
     "text": [
      "                   A         B         C         D\n",
      "2019-06-01  0.653839  1.233693  0.509402  0.978697\n",
      "2019-06-03 -1.005626  0.515990 -0.692431 -0.544852\n"
     ]
    }
   ],
   "source": [
    "print(df.loc[['20190601','20190603']]) # KeyError"
   ]
  },
  {
   "cell_type": "code",
   "execution_count": 32,
   "id": "73910f44",
   "metadata": {},
   "outputs": [],
   "source": [
    "#như đã thấy không thể truy cập ngày và giờ như trên đc\n"
   ]
  },
  {
   "cell_type": "code",
   "execution_count": 33,
   "id": "b925dca4",
   "metadata": {},
   "outputs": [
    {
     "name": "stdout",
     "output_type": "stream",
     "text": [
      "                   A         B         C         D\n",
      "2019-06-01  0.653839  1.233693  0.509402  0.978697\n",
      "2019-06-03 -1.005626  0.515990 -0.692431 -0.544852\n"
     ]
    }
   ],
   "source": [
    "from datetime import datetime\n",
    "date1 = datetime(2019, 6, 1, 0, 0, 0)\n",
    "date2 = datetime(2019, 6, 3, 0, 0, 0)\n",
    "print(df.loc[[date1,date2]])"
   ]
  },
  {
   "cell_type": "code",
   "execution_count": 34,
   "id": "3d5c692a",
   "metadata": {},
   "outputs": [
    {
     "name": "stdout",
     "output_type": "stream",
     "text": [
      "A    0.653839\n",
      "C    0.509402\n",
      "Name: 2019-06-01 00:00:00, dtype: float64\n"
     ]
    }
   ],
   "source": [
    "#hàng và các cột cụ thể\n",
    "print(df.loc[date1, ['A','C']])"
   ]
  },
  {
   "cell_type": "code",
   "execution_count": 35,
   "id": "a120fe32",
   "metadata": {},
   "outputs": [
    {
     "name": "stdout",
     "output_type": "stream",
     "text": [
      "0.5159904053197463\n"
     ]
    }
   ],
   "source": [
    "#sử dụng at() để lấy giá trị trong 1 ô cụ thể\n",
    "from datetime import datetime\n",
    "d = datetime(2019, 6, 3, 0, 0, 0)\n",
    "print(df.at[d,'B'])"
   ]
  },
  {
   "cell_type": "code",
   "execution_count": 36,
   "id": "0837a4e6",
   "metadata": {},
   "outputs": [
    {
     "name": "stdout",
     "output_type": "stream",
     "text": [
      "                   A         B         C         D\n",
      "2019-05-30  2.097616  0.269024 -0.407725 -0.341558\n",
      "2019-06-01  0.653839  1.233693  0.509402  0.978697\n",
      "2019-06-02  1.062862  2.069812 -1.029590 -0.047118\n"
     ]
    }
   ],
   "source": [
    "print(df[(df.A > 0) & (df.B>0)]) #sử dụng toán tử để thống kê tập giá trị"
   ]
  },
  {
   "cell_type": "code",
   "execution_count": 37,
   "id": "498459d5",
   "metadata": {},
   "outputs": [
    {
     "name": "stdout",
     "output_type": "stream",
     "text": [
      "   2019-05-25  2019-05-26  2019-05-27  2019-05-28  2019-05-29  2019-05-30  \\\n",
      "A    0.756357   -1.076687   -1.405621   -0.247678   -0.437599    2.097616   \n",
      "B   -1.482774   -1.266881    0.743820    0.060031   -0.550319    0.269024   \n",
      "C   -1.625920   -0.900162   -2.384769   -2.408409   -1.066857   -0.407725   \n",
      "D    0.084161   -1.272279    1.122924    0.117069    0.386376   -0.341558   \n",
      "\n",
      "   2019-05-31  2019-06-01  2019-06-02  2019-06-03  \n",
      "A    0.290844    0.653839    1.062862   -1.005626  \n",
      "B   -0.551249    1.233693    2.069812    0.515990  \n",
      "C    1.026737    0.509402   -1.029590   -0.692431  \n",
      "D    1.409417    0.978697   -0.047118   -0.544852  \n"
     ]
    }
   ],
   "source": [
    "#72\n",
    "print(df.transpose()) #chuyển hàng thành cột, cột thành hàng"
   ]
  },
  {
   "cell_type": "code",
   "execution_count": 38,
   "id": "ef284aba",
   "metadata": {},
   "outputs": [
    {
     "name": "stdout",
     "output_type": "stream",
     "text": [
      "   2019-05-25  2019-05-26  2019-05-27  2019-05-28  2019-05-29  2019-05-30  \\\n",
      "A    0.756357   -1.076687   -1.405621   -0.247678   -0.437599    2.097616   \n",
      "B   -1.482774   -1.266881    0.743820    0.060031   -0.550319    0.269024   \n",
      "C   -1.625920   -0.900162   -2.384769   -2.408409   -1.066857   -0.407725   \n",
      "D    0.084161   -1.272279    1.122924    0.117069    0.386376   -0.341558   \n",
      "\n",
      "   2019-05-31  2019-06-01  2019-06-02  2019-06-03  \n",
      "A    0.290844    0.653839    1.062862   -1.005626  \n",
      "B   -0.551249    1.233693    2.069812    0.515990  \n",
      "C    1.026737    0.509402   -1.029590   -0.692431  \n",
      "D    1.409417    0.978697   -0.047118   -0.544852  \n"
     ]
    }
   ],
   "source": [
    "print(df.T) #ngoài ra có thể chuyển vị bằng T"
   ]
  },
  {
   "cell_type": "code",
   "execution_count": 44,
   "id": "28ab17a8",
   "metadata": {},
   "outputs": [],
   "source": [
    "def checkSeriesOrDataframe(var):\n",
    "    if isinstance(var, pd.DataFrame):\n",
    "        return 'Dataframe'\n",
    "    if isinstance(var, pd.Series):\n",
    "        return 'Series'\n",
    "\n",
    "#check kiểu dữ liệu là khung cấu trúc hay là series"
   ]
  },
  {
   "cell_type": "code",
   "execution_count": 40,
   "id": "2ecf44ee",
   "metadata": {},
   "outputs": [
    {
     "name": "stdout",
     "output_type": "stream",
     "text": [
      "                   A         B         C         D\n",
      "2019-06-03 -1.005626  0.515990 -0.692431 -0.544852\n",
      "2019-06-02  1.062862  2.069812 -1.029590 -0.047118\n",
      "2019-06-01  0.653839  1.233693  0.509402  0.978697\n",
      "2019-05-31  0.290844 -0.551249  1.026737  1.409417\n",
      "2019-05-30  2.097616  0.269024 -0.407725 -0.341558\n",
      "2019-05-29 -0.437599 -0.550319 -1.066857  0.386376\n",
      "2019-05-28 -0.247678  0.060031 -2.408409  0.117069\n",
      "2019-05-27 -1.405621  0.743820 -2.384769  1.122924\n",
      "2019-05-26 -1.076687 -1.266881 -0.900162 -1.272279\n",
      "2019-05-25  0.756357 -1.482774 -1.625920  0.084161\n"
     ]
    }
   ],
   "source": [
    "print(df.sort_index(axis=0, ascending=False)) #sắp xếp theo chỉ mục(hàng) với chỉ số 0"
   ]
  },
  {
   "cell_type": "code",
   "execution_count": 41,
   "id": "3fa50b7d",
   "metadata": {},
   "outputs": [
    {
     "name": "stdout",
     "output_type": "stream",
     "text": [
      "                   D         C         B         A\n",
      "2019-05-25  0.084161 -1.625920 -1.482774  0.756357\n",
      "2019-05-26 -1.272279 -0.900162 -1.266881 -1.076687\n",
      "2019-05-27  1.122924 -2.384769  0.743820 -1.405621\n",
      "2019-05-28  0.117069 -2.408409  0.060031 -0.247678\n",
      "2019-05-29  0.386376 -1.066857 -0.550319 -0.437599\n",
      "2019-05-30 -0.341558 -0.407725  0.269024  2.097616\n",
      "2019-05-31  1.409417  1.026737 -0.551249  0.290844\n",
      "2019-06-01  0.978697  0.509402  1.233693  0.653839\n",
      "2019-06-02 -0.047118 -1.029590  2.069812  1.062862\n",
      "2019-06-03 -0.544852 -0.692431  0.515990 -1.005626\n"
     ]
    }
   ],
   "source": [
    "print(df.sort_index(axis=1, ascending=False)) #sắp xếp theo nhãn cột chỉ số 1"
   ]
  },
  {
   "cell_type": "code",
   "execution_count": 42,
   "id": "7e2b9ff8",
   "metadata": {},
   "outputs": [
    {
     "name": "stdout",
     "output_type": "stream",
     "text": [
      "                   A         B         C         D\n",
      "2019-05-27 -1.405621  0.743820 -2.384769  1.122924\n",
      "2019-05-26 -1.076687 -1.266881 -0.900162 -1.272279\n",
      "2019-06-03 -1.005626  0.515990 -0.692431 -0.544852\n",
      "2019-05-29 -0.437599 -0.550319 -1.066857  0.386376\n",
      "2019-05-28 -0.247678  0.060031 -2.408409  0.117069\n",
      "2019-05-31  0.290844 -0.551249  1.026737  1.409417\n",
      "2019-06-01  0.653839  1.233693  0.509402  0.978697\n",
      "2019-05-25  0.756357 -1.482774 -1.625920  0.084161\n",
      "2019-06-02  1.062862  2.069812 -1.029590 -0.047118\n",
      "2019-05-30  2.097616  0.269024 -0.407725 -0.341558\n"
     ]
    }
   ],
   "source": [
    "print(df.sort_values('A', axis=0)) #sắp xếp theo giá trị trên cột A"
   ]
  },
  {
   "cell_type": "code",
   "execution_count": 43,
   "id": "e62beb99",
   "metadata": {},
   "outputs": [
    {
     "name": "stdout",
     "output_type": "stream",
     "text": [
      "                   C         A         D         B\n",
      "2019-05-25 -1.625920  0.756357  0.084161 -1.482774\n",
      "2019-05-26 -0.900162 -1.076687 -1.272279 -1.266881\n",
      "2019-05-27 -2.384769 -1.405621  1.122924  0.743820\n",
      "2019-05-28 -2.408409 -0.247678  0.117069  0.060031\n",
      "2019-05-29 -1.066857 -0.437599  0.386376 -0.550319\n",
      "2019-05-30 -0.407725  2.097616 -0.341558  0.269024\n",
      "2019-05-31  1.026737  0.290844  1.409417 -0.551249\n",
      "2019-06-01  0.509402  0.653839  0.978697  1.233693\n",
      "2019-06-02 -1.029590  1.062862 -0.047118  2.069812\n",
      "2019-06-03 -0.692431 -1.005626 -0.544852  0.515990\n"
     ]
    }
   ],
   "source": [
    "print(df.sort_values('20190601', axis=1)) #sắp xếp theo chỉ mục cụ thể"
   ]
  },
  {
   "cell_type": "code",
   "execution_count": 45,
   "id": "87c1bfd0",
   "metadata": {},
   "outputs": [],
   "source": [
    "#dùng hàm apply để dùng cho giá trị\n",
    "import math\n",
    "sq_root = lambda x: math.sqrt(x) if x > 0 else x #định nghĩa 2 hàm\n",
    "sq = lambda x: x**2"
   ]
  },
  {
   "cell_type": "code",
   "execution_count": 46,
   "id": "8a082e83",
   "metadata": {},
   "outputs": [
    {
     "name": "stdout",
     "output_type": "stream",
     "text": [
      "2019-05-25   -1.482774\n",
      "2019-05-26   -1.266881\n",
      "2019-05-27    0.862450\n",
      "2019-05-28    0.245013\n",
      "2019-05-29   -0.550319\n",
      "2019-05-30    0.518675\n",
      "2019-05-31   -0.551249\n",
      "2019-06-01    1.110717\n",
      "2019-06-02    1.438684\n",
      "2019-06-03    0.718325\n",
      "Freq: D, Name: B, dtype: float64\n"
     ]
    }
   ],
   "source": [
    "print(df.B.apply(sq_root)) #nếu số dương trên cột B thì lấy căn 2"
   ]
  },
  {
   "cell_type": "code",
   "execution_count": 47,
   "id": "0d1d6979",
   "metadata": {},
   "outputs": [
    {
     "name": "stdout",
     "output_type": "stream",
     "text": [
      "2019-05-25    2.198619\n",
      "2019-05-26    1.604988\n",
      "2019-05-27    0.553268\n",
      "2019-05-28    0.003604\n",
      "2019-05-29    0.302851\n",
      "2019-05-30    0.072374\n",
      "2019-05-31    0.303876\n",
      "2019-06-01    1.521997\n",
      "2019-06-02    4.284122\n",
      "2019-06-03    0.266246\n",
      "Freq: D, Name: B, dtype: float64\n"
     ]
    }
   ],
   "source": [
    "print(df.B.apply(sq)) #lấy bình phương giá trị trên cột"
   ]
  },
  {
   "cell_type": "code",
   "execution_count": 48,
   "id": "ee889db3",
   "metadata": {},
   "outputs": [],
   "source": [
    "#df.apply(sq_root) # ValueError\n",
    "#vì dối tượng truyền vào lúc này là 1 DataFrame chứ không phải là series"
   ]
  },
  {
   "cell_type": "code",
   "execution_count": 50,
   "id": "15daf8a9",
   "metadata": {},
   "outputs": [
    {
     "data": {
      "text/html": [
       "<div>\n",
       "<style scoped>\n",
       "    .dataframe tbody tr th:only-of-type {\n",
       "        vertical-align: middle;\n",
       "    }\n",
       "\n",
       "    .dataframe tbody tr th {\n",
       "        vertical-align: top;\n",
       "    }\n",
       "\n",
       "    .dataframe thead th {\n",
       "        text-align: right;\n",
       "    }\n",
       "</style>\n",
       "<table border=\"1\" class=\"dataframe\">\n",
       "  <thead>\n",
       "    <tr style=\"text-align: right;\">\n",
       "      <th></th>\n",
       "      <th>A</th>\n",
       "      <th>B</th>\n",
       "      <th>C</th>\n",
       "      <th>D</th>\n",
       "    </tr>\n",
       "  </thead>\n",
       "  <tbody>\n",
       "    <tr>\n",
       "      <th>2019-05-25</th>\n",
       "      <td>0.572076</td>\n",
       "      <td>2.198619</td>\n",
       "      <td>2.643616</td>\n",
       "      <td>0.007083</td>\n",
       "    </tr>\n",
       "    <tr>\n",
       "      <th>2019-05-26</th>\n",
       "      <td>1.159254</td>\n",
       "      <td>1.604988</td>\n",
       "      <td>0.810292</td>\n",
       "      <td>1.618695</td>\n",
       "    </tr>\n",
       "    <tr>\n",
       "      <th>2019-05-27</th>\n",
       "      <td>1.975769</td>\n",
       "      <td>0.553268</td>\n",
       "      <td>5.687124</td>\n",
       "      <td>1.260959</td>\n",
       "    </tr>\n",
       "    <tr>\n",
       "      <th>2019-05-28</th>\n",
       "      <td>0.061345</td>\n",
       "      <td>0.003604</td>\n",
       "      <td>5.800432</td>\n",
       "      <td>0.013705</td>\n",
       "    </tr>\n",
       "    <tr>\n",
       "      <th>2019-05-29</th>\n",
       "      <td>0.191493</td>\n",
       "      <td>0.302851</td>\n",
       "      <td>1.138185</td>\n",
       "      <td>0.149287</td>\n",
       "    </tr>\n",
       "    <tr>\n",
       "      <th>2019-05-30</th>\n",
       "      <td>4.399993</td>\n",
       "      <td>0.072374</td>\n",
       "      <td>0.166240</td>\n",
       "      <td>0.116662</td>\n",
       "    </tr>\n",
       "    <tr>\n",
       "      <th>2019-05-31</th>\n",
       "      <td>0.084590</td>\n",
       "      <td>0.303876</td>\n",
       "      <td>1.054189</td>\n",
       "      <td>1.986456</td>\n",
       "    </tr>\n",
       "    <tr>\n",
       "      <th>2019-06-01</th>\n",
       "      <td>0.427505</td>\n",
       "      <td>1.521997</td>\n",
       "      <td>0.259491</td>\n",
       "      <td>0.957849</td>\n",
       "    </tr>\n",
       "    <tr>\n",
       "      <th>2019-06-02</th>\n",
       "      <td>1.129675</td>\n",
       "      <td>4.284122</td>\n",
       "      <td>1.060055</td>\n",
       "      <td>0.002220</td>\n",
       "    </tr>\n",
       "    <tr>\n",
       "      <th>2019-06-03</th>\n",
       "      <td>1.011284</td>\n",
       "      <td>0.266246</td>\n",
       "      <td>0.479460</td>\n",
       "      <td>0.296863</td>\n",
       "    </tr>\n",
       "  </tbody>\n",
       "</table>\n",
       "</div>"
      ],
      "text/plain": [
       "                   A         B         C         D\n",
       "2019-05-25  0.572076  2.198619  2.643616  0.007083\n",
       "2019-05-26  1.159254  1.604988  0.810292  1.618695\n",
       "2019-05-27  1.975769  0.553268  5.687124  1.260959\n",
       "2019-05-28  0.061345  0.003604  5.800432  0.013705\n",
       "2019-05-29  0.191493  0.302851  1.138185  0.149287\n",
       "2019-05-30  4.399993  0.072374  0.166240  0.116662\n",
       "2019-05-31  0.084590  0.303876  1.054189  1.986456\n",
       "2019-06-01  0.427505  1.521997  0.259491  0.957849\n",
       "2019-06-02  1.129675  4.284122  1.060055  0.002220\n",
       "2019-06-03  1.011284  0.266246  0.479460  0.296863"
      ]
     },
     "execution_count": 50,
     "metadata": {},
     "output_type": "execute_result"
    }
   ],
   "source": [
    "#thay vào đó \n",
    "df.apply(sq)"
   ]
  },
  {
   "cell_type": "code",
   "execution_count": 53,
   "id": "22afc9a8",
   "metadata": {},
   "outputs": [
    {
     "name": "stdout",
     "output_type": "stream",
     "text": [
      "                   A         B         C         D\n",
      "2019-05-25  0.869688 -1.482774 -1.625920  0.290104\n",
      "2019-05-26 -1.076687 -1.266881 -0.900162 -1.272279\n",
      "2019-05-27 -1.405621  0.862450 -2.384769  1.059681\n",
      "2019-05-28 -0.247678  0.245013 -2.408409  0.342153\n",
      "2019-05-29 -0.437599 -0.550319 -1.066857  0.621592\n",
      "2019-05-30  1.448315  0.518675 -0.407725 -0.341558\n",
      "2019-05-31  0.539300 -0.551249  1.013280  1.187189\n",
      "2019-06-01  0.808603  1.110717  0.713724  0.989291\n",
      "2019-06-02  1.030952  1.438684 -1.029590 -0.047118\n",
      "2019-06-03 -1.005626  0.718325 -0.692431 -0.544852\n"
     ]
    }
   ],
   "source": [
    "#nếu muốn sử dụng sq_root thì hãy duyệt từng cột\n",
    "for column in df:\n",
    "    df[column] = df[column].apply(sq_root)\n",
    "print(df)"
   ]
  },
  {
   "cell_type": "code",
   "execution_count": 54,
   "id": "300a7182",
   "metadata": {},
   "outputs": [
    {
     "name": "stdout",
     "output_type": "stream",
     "text": [
      "A    0.523647\n",
      "B    1.042641\n",
      "C   -8.788859\n",
      "D    2.284204\n",
      "dtype: float64\n"
     ]
    }
   ],
   "source": [
    "#thực tế thì apply() có thể áp dụng trên hàng hoặc cột cụ thể , tuy nhiên với thư viện numpy thì nó sẽ hiểu trên tất cả\n",
    "print(df.apply(np.sum, axis=0)) #tổng hợp các giá trị trên mỗi cột"
   ]
  },
  {
   "cell_type": "code",
   "execution_count": 55,
   "id": "8e99c513",
   "metadata": {},
   "outputs": [
    {
     "name": "stdout",
     "output_type": "stream",
     "text": [
      "2019-05-25   -1.948902\n",
      "2019-05-26   -4.516009\n",
      "2019-05-27   -1.868259\n",
      "2019-05-28   -2.068920\n",
      "2019-05-29   -1.433183\n",
      "2019-05-30    1.217706\n",
      "2019-05-31    2.188520\n",
      "2019-06-01    3.622335\n",
      "2019-06-02    1.392929\n",
      "2019-06-03   -1.524584\n",
      "Freq: D, dtype: float64\n"
     ]
    }
   ],
   "source": [
    "print(df.apply(np.sum, axis=1)) #với hàng"
   ]
  },
  {
   "cell_type": "code",
   "execution_count": 56,
   "id": "716164c6",
   "metadata": {},
   "outputs": [],
   "source": [
    "#thêm và xóa hàng hoặc cột "
   ]
  },
  {
   "cell_type": "code",
   "execution_count": 57,
   "id": "08ee1761",
   "metadata": {},
   "outputs": [],
   "source": [
    "import pandas as pd"
   ]
  },
  {
   "cell_type": "code",
   "execution_count": 58,
   "id": "6169bea6",
   "metadata": {},
   "outputs": [
    {
     "name": "stdout",
     "output_type": "stream",
     "text": [
      "              name  year  reports\n",
      "Singapore    Janet  2012        6\n",
      "China          Nad  2012       13\n",
      "Japan      Timothy  2013       14\n",
      "Sweden        June  2014        1\n",
      "Norway         Amy  2014        7\n"
     ]
    }
   ],
   "source": [
    "data = {'name': ['Janet', 'Nad', 'Timothy', 'June', 'Amy'],\n",
    "'year': [2012, 2012, 2013, 2014, 2014],\n",
    "'reports': [6, 13, 14, 1, 7]}\n",
    "df = pd.DataFrame(data, index =\n",
    "['Singapore', 'China', 'Japan', 'Sweden', 'Norway'])\n",
    "print(df)"
   ]
  },
  {
   "cell_type": "code",
   "execution_count": 59,
   "id": "89e2783c",
   "metadata": {},
   "outputs": [
    {
     "name": "stdout",
     "output_type": "stream",
     "text": [
      "              name  year  reports     school\n",
      "Singapore    Janet  2012        6  Cambridge\n",
      "China          Nad  2012       13     Oxford\n",
      "Japan      Timothy  2013       14     Oxford\n",
      "Sweden        June  2014        1  Cambridge\n",
      "Norway         Amy  2014        7     Oxford\n"
     ]
    }
   ],
   "source": [
    "#thêm cột\n",
    "import numpy as np\n",
    "schools = np.array([\"Cambridge\",\"Oxford\",\"Oxford\",\"Cambridge\",\"Oxford\"])\n",
    "df[\"school\"] = schools\n",
    "print(df)"
   ]
  },
  {
   "cell_type": "code",
   "execution_count": 60,
   "id": "e108e52f",
   "metadata": {},
   "outputs": [
    {
     "name": "stdout",
     "output_type": "stream",
     "text": [
      "            name  year  reports     school\n",
      "Singapore  Janet  2012        6  Cambridge\n",
      "Sweden      June  2014        1  Cambridge\n",
      "Norway       Amy  2014        7     Oxford\n"
     ]
    }
   ],
   "source": [
    "print(df.drop(['China', 'Japan'])) #xóa hàng"
   ]
  },
  {
   "cell_type": "code",
   "execution_count": 61,
   "id": "7da88102",
   "metadata": {},
   "outputs": [
    {
     "name": "stdout",
     "output_type": "stream",
     "text": [
      "              name  year  reports     school\n",
      "Singapore    Janet  2012        6  Cambridge\n",
      "Japan      Timothy  2013       14     Oxford\n",
      "Sweden        June  2014        1  Cambridge\n",
      "Norway         Amy  2014        7     Oxford\n"
     ]
    }
   ],
   "source": [
    "print(df[df.name != 'Nad']) #xóa hàng dựa trên giá trị cụ thể"
   ]
  },
  {
   "cell_type": "code",
   "execution_count": 62,
   "id": "2da00f33",
   "metadata": {},
   "outputs": [
    {
     "name": "stdout",
     "output_type": "stream",
     "text": [
      "              name  year  reports     school\n",
      "Singapore    Janet  2012        6  Cambridge\n",
      "Japan      Timothy  2013       14     Oxford\n",
      "Sweden        June  2014        1  Cambridge\n",
      "Norway         Amy  2014        7     Oxford\n"
     ]
    }
   ],
   "source": [
    "print(df.drop(df.index[1])) #xóa hàng dựa trên chỉ số"
   ]
  },
  {
   "cell_type": "code",
   "execution_count": 63,
   "id": "1a603b20",
   "metadata": {},
   "outputs": [
    {
     "name": "stdout",
     "output_type": "stream",
     "text": [
      "            name  year  reports     school\n",
      "Singapore  Janet  2012        6  Cambridge\n",
      "Sweden      June  2014        1  Cambridge\n",
      "Norway       Amy  2014        7     Oxford\n"
     ]
    }
   ],
   "source": [
    "print(df.drop(df.index[[1,2]])) #xóa nhiều hàng bằng cách sử dụng danh sách"
   ]
  },
  {
   "cell_type": "code",
   "execution_count": 64,
   "id": "f4a55d88",
   "metadata": {},
   "outputs": [
    {
     "name": "stdout",
     "output_type": "stream",
     "text": [
      "              name  year  reports     school\n",
      "Singapore    Janet  2012        6  Cambridge\n",
      "China          Nad  2012       13     Oxford\n",
      "Japan      Timothy  2013       14     Oxford\n",
      "Norway         Amy  2014        7     Oxford\n"
     ]
    }
   ],
   "source": [
    "print(df.drop(df.index[-2]))"
   ]
  },
  {
   "cell_type": "code",
   "execution_count": 65,
   "id": "dafe9c3a",
   "metadata": {},
   "outputs": [
    {
     "name": "stdout",
     "output_type": "stream",
     "text": [
      "              name  year     school\n",
      "Singapore    Janet  2012  Cambridge\n",
      "China          Nad  2012     Oxford\n",
      "Japan      Timothy  2013     Oxford\n",
      "Sweden        June  2014  Cambridge\n",
      "Norway         Amy  2014     Oxford\n"
     ]
    }
   ],
   "source": [
    "#theo mặc định drop sẽ xóa hàng nhưng nếu xóa cột hãy sử dụng chỉ số 1\n",
    "print(df.drop('reports', axis=1))"
   ]
  },
  {
   "cell_type": "code",
   "execution_count": 66,
   "id": "3406f65f",
   "metadata": {},
   "outputs": [
    {
     "name": "stdout",
     "output_type": "stream",
     "text": [
      "              name  reports     school\n",
      "Singapore    Janet        6  Cambridge\n",
      "China          Nad       13     Oxford\n",
      "Japan      Timothy       14     Oxford\n",
      "Sweden        June        1  Cambridge\n",
      "Norway         Amy        7     Oxford\n"
     ]
    }
   ],
   "source": [
    "print(df.drop(df.columns[1], axis=1)) #dùng chỉ số"
   ]
  },
  {
   "cell_type": "code",
   "execution_count": 67,
   "id": "e99684ea",
   "metadata": {},
   "outputs": [
    {
     "name": "stdout",
     "output_type": "stream",
     "text": [
      "              name  reports\n",
      "Singapore    Janet        6\n",
      "China          Nad       13\n",
      "Japan      Timothy       14\n",
      "Sweden        June        1\n",
      "Norway         Amy        7\n"
     ]
    }
   ],
   "source": [
    "print(df.drop(df.columns[[1,3]], axis=1)) #danh sách"
   ]
  },
  {
   "cell_type": "code",
   "execution_count": 68,
   "id": "1b3ad27e",
   "metadata": {},
   "outputs": [
    {
     "name": "stdout",
     "output_type": "stream",
     "text": [
      "   Gender  Team\n",
      "0    Male     1\n",
      "1    Male     2\n",
      "2  Female     3\n",
      "3  Female     3\n",
      "4  Female     1\n"
     ]
    }
   ],
   "source": [
    "#81\n",
    "df = pd.DataFrame(\n",
    "{\n",
    "\"Gender\": ['Male','Male','Female','Female','Female'],\n",
    "\"Team\" : [1,2,3,3,1]\n",
    "})\n",
    "print(df)"
   ]
  },
  {
   "cell_type": "code",
   "execution_count": 69,
   "id": "87aa3da4",
   "metadata": {},
   "outputs": [
    {
     "name": "stdout",
     "output_type": "stream",
     "text": [
      "Displaying the distribution of genders in each team\n",
      "Team    1  2  3\n",
      "Gender         \n",
      "Female  1  0  2\n",
      "Male    1  1  0\n"
     ]
    }
   ],
   "source": [
    "print(\"Displaying the distribution of genders in each team\")\n",
    "print(pd.crosstab(df.Gender, df.Team)) #tao bảng tần xuất chéo giữa 2 cột"
   ]
  },
  {
   "cell_type": "code",
   "execution_count": 70,
   "id": "fc0cba03",
   "metadata": {},
   "outputs": [
    {
     "name": "stdout",
     "output_type": "stream",
     "text": [
      "Gender  Female  Male\n",
      "Team                \n",
      "1            1     1\n",
      "2            0     1\n",
      "3            2     0\n"
     ]
    }
   ],
   "source": [
    "print(pd.crosstab(df.Team, df.Gender)) #sự phân bố từng đội với từng giới tính"
   ]
  },
  {
   "cell_type": "code",
   "execution_count": null,
   "id": "04185176",
   "metadata": {},
   "outputs": [],
   "source": []
  }
 ],
 "metadata": {
  "kernelspec": {
   "display_name": "Python 3 (ipykernel)",
   "language": "python",
   "name": "python3"
  },
  "language_info": {
   "codemirror_mode": {
    "name": "ipython",
    "version": 3
   },
   "file_extension": ".py",
   "mimetype": "text/x-python",
   "name": "python",
   "nbconvert_exporter": "python",
   "pygments_lexer": "ipython3",
   "version": "3.11.4"
  }
 },
 "nbformat": 4,
 "nbformat_minor": 5
}
