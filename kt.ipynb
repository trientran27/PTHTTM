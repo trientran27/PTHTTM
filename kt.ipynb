{
 "cells": [
  {
   "cell_type": "code",
   "execution_count": null,
   "id": "346c2364",
   "metadata": {},
   "outputs": [],
   "source": [
    "import pandas as pd\n",
    "df1 = pandas.read_excel('data_pttk_1.xlsx')\n",
    "print(df1.head())\n",
    "df1 = df1.drop(['Unnamed: 7'],axis=1)\n",
    "df1=df1.rename(columns ={0.1: '10%','0.1.1': '10%.1', 'điểm thi':'Thi',0.2: '20%'}) \n",
    "print(df1.head())\n"
   ]
  },
  {
   "cell_type": "code",
   "execution_count": 90,
   "id": "37796e55",
   "metadata": {},
   "outputs": [
    {
     "name": "stdout",
     "output_type": "stream",
     "text": [
      "  mã sv  0.1  0.1.1  Unnamed: 3  0.2  Unnamed: 5  điểm thi\n",
      "0    a1    9      7         NaN  6.0         NaN      6.00\n",
      "1    a2    9      7         NaN  6.0         NaN      5.50\n",
      "2    a3   10      8         NaN  7.0         NaN      6.75\n",
      "3    a4   10      8         NaN  6.0         NaN      7.00\n",
      "4    a5    9      7         NaN  6.0         NaN      6.00\n",
      "  mã sv  10%  10%.1  Unnamed: 3  20%  Unnamed: 5   Thi\n",
      "0    a1    9      7         NaN  6.0         NaN  6.00\n",
      "1    a2    9      7         NaN  6.0         NaN  5.50\n",
      "2    a3   10      8         NaN  7.0         NaN  6.75\n",
      "3    a4   10      8         NaN  6.0         NaN  7.00\n",
      "4    a5    9      7         NaN  6.0         NaN  6.00\n"
     ]
    }
   ],
   "source": [
    "import pandas\n",
    "df2 = pandas.read_excel('data_pttk_2.xlsx')\n",
    "print(df2.head())\n",
    "df2=df2.rename(columns ={0.1: '10%','0.1.1': '10%.1',0.2: '20%','điểm thi':'Thi' })\n",
    "print(df2.head())"
   ]
  },
  {
   "cell_type": "code",
   "execution_count": 91,
   "id": "2a494c19",
   "metadata": {},
   "outputs": [
    {
     "name": "stdout",
     "output_type": "stream",
     "text": [
      "   Họ Tên    10%   20%  20%.1   Thi\n",
      "0  31_011  8.375  7.25    8.5   9.0\n",
      "1  31_012  8.250  7.25    8.5   9.0\n",
      "2  31_013  8.500  7.50    8.5  10.0\n",
      "3  31_014  4.000  7.25    8.5   9.0\n",
      "4  31_015  8.750  7.50    8.5   9.5\n",
      "    mã sv    10%  10%.1  20%   Thi\n",
      "0  31_011  8.375   7.25  8.5   9.0\n",
      "1  31_012  8.250   7.25  8.5   9.0\n",
      "2  31_013  8.500   7.50  8.5  10.0\n",
      "3  31_014  4.000   7.25  8.5   9.0\n",
      "4  31_015  8.750   7.50  8.5   9.5\n"
     ]
    }
   ],
   "source": [
    "import pandas\n",
    "df3 = pandas.read_csv('data_pttk_3.csv')\n",
    "print(df3.head())\n",
    "df3=df3.rename(columns ={'Họ Tên': 'mã sv', '20%':'10%.1','20%.1':'20%'})\n",
    "print(df3.head())"
   ]
  },
  {
   "cell_type": "code",
   "execution_count": 92,
   "id": "6ca24369",
   "metadata": {},
   "outputs": [],
   "source": [
    "df_merged = pd.concat ([df1, df2,df3], ignore_index=True)\n",
    "# print(df_merged.head())\n",
    "df_merged =df_merged.drop(['Unnamed: 5','Unnamed: 3'],axis=1)\n",
    "# print(df_merged.head())\n",
    "df_merged.to_csv('data_pttk.csv',index=False)\n"
   ]
  },
  {
   "cell_type": "code",
   "execution_count": 93,
   "id": "02450adf",
   "metadata": {},
   "outputs": [
    {
     "name": "stdout",
     "output_type": "stream",
     "text": [
      "  mã sv   10%  10%.1  20%   Thi\n",
      "0    b1   9.0    7.0  6.0  6.00\n",
      "1    b2   9.0    7.0  6.0  6.00\n",
      "2    b3  10.0    9.0  7.0  7.25\n",
      "3    b4   9.0    7.0  6.0  6.00\n",
      "4    b5  10.0    8.0  7.0  7.50\n"
     ]
    }
   ],
   "source": [
    "d= pd.read_csv('data_pttk.csv')\n",
    "print(d.head())"
   ]
  },
  {
   "cell_type": "code",
   "execution_count": 94,
   "id": "ae86076c",
   "metadata": {},
   "outputs": [
    {
     "name": "stdout",
     "output_type": "stream",
     "text": [
      "mã sv    0\n",
      "10%      0\n",
      "10%.1    0\n",
      "20%      0\n",
      "Thi      9\n",
      "dtype: int64\n"
     ]
    }
   ],
   "source": [
    "print(d.isnull().sum())"
   ]
  },
  {
   "cell_type": "code",
   "execution_count": 95,
   "id": "06ffb82f",
   "metadata": {},
   "outputs": [
    {
     "name": "stdout",
     "output_type": "stream",
     "text": [
      "  mã sv   10%  10%.1  20%   Thi\n",
      "0    b1   9.0    7.0  6.0  6.00\n",
      "1    b2   9.0    7.0  6.0  6.00\n",
      "2    b3  10.0    9.0  7.0  7.25\n",
      "3    b4   9.0    7.0  6.0  6.00\n",
      "4    b5  10.0    8.0  7.0  7.50\n"
     ]
    }
   ],
   "source": [
    "d[d.columns].isna()\n",
    "d=d.dropna()\n",
    "print(d.head())\n"
   ]
  },
  {
   "cell_type": "code",
   "execution_count": 129,
   "id": "69ffea32",
   "metadata": {},
   "outputs": [
    {
     "name": "stdout",
     "output_type": "stream",
     "text": [
      "[16.0 23.25 25.0 22.25 22.0 18.0 23.0 22.125 25.0 26.0 18.0 21.25 18.75\n",
      " 22.0 22.0 18.75 22.375 22.0 21.0 22.0 15.25 19.25 23.0 22.0 20.0 22.0\n",
      " 22.0 25.0 22.0 22.0 25.25 23.5 22.0 23.0 23.0 22.0 25.5 12.75 0.0 22.0\n",
      " 23.05 21.5 22.0 25.0 24.125 17.75 25.0 21.875 23.5 22.0 22.5 20.75 0.0\n",
      " 25.0 22.0 24.75 24.0 25.5 21.25 26.0 22.0 22.0 22.0 25.0 22.5 21.625 0.0\n",
      " 20.75 25.5 24.0 22.75 22.25 22.0 26.0 23.0 25.0 20.5 24.0 21.75 21.75\n",
      " 26.0 25.0 22.0 22.375 24.0 20.15 24.0 19.5 22.0 19.75 19.75 22.5 25.5\n",
      " 22.0 22.0 21.75 22.0 22.75 21.0 22.0 12.375 21.75 25.0 19.25 22.0 25.0\n",
      " 22.0 21.75 25.75 22.5 22.25 25.0 21.75 0.0 25.0 25.0 21.75 26.0 23.25\n",
      " 22.875]\n"
     ]
    }
   ],
   "source": [
    "import numpy as np\n",
    "from sklearn.model_selection import train_test_split\n",
    "np.random.seed(42) \n",
    "x= d.values[:,1:-1]\n",
    "y= d.values[:,-1]\n",
    "x_train, x_test, y_train, y_test =train_test_split(x,y, test_size= 0.2)\n",
    "\n",
    "x_train=np.sum([x_train[:,0],x_train[:,1],x_train[:,2]], axis =0)\n",
    "x_test=np.sum([x_test[:,0],x_test[:,1],x_test[:,2]], axis =0)\n",
    "print(xx)\n",
    "\n"
   ]
  },
  {
   "cell_type": "code",
   "execution_count": 138,
   "id": "e413f1b9",
   "metadata": {},
   "outputs": [
    {
     "name": "stdout",
     "output_type": "stream",
     "text": [
      "Epoch:   200 \t Cost:    0.4847 \t W:0.3045 \t b:0.1362\n",
      "Epoch:   400 \t Cost:    0.4844 \t W:0.3041 \t b:0.1441\n",
      "Epoch:   600 \t Cost:    0.4841 \t W:0.3038 \t b:0.1519\n",
      "Epoch:   800 \t Cost:    0.4838 \t W:0.3034 \t b:0.1596\n",
      "Epoch:  1000 \t Cost:    0.4835 \t W:0.3031 \t b:0.1672\n",
      "Epoch:  1200 \t Cost:    0.4832 \t W:0.3027 \t b:0.1748\n",
      "Epoch:  1400 \t Cost:    0.4829 \t W:0.3024 \t b:0.1823\n",
      "Epoch:  1600 \t Cost:    0.4826 \t W:0.3021 \t b:0.1897\n",
      "Epoch:  1800 \t Cost:    0.4824 \t W:0.3018 \t b:0.1971\n",
      "Epoch:  2000 \t Cost:    0.4821 \t W:0.3014 \t b:0.2044\n",
      "Optimization Finished!\n",
      "Final training cost: 0.48210707 W: 0.30143934 b: 0.20437546 \n",
      "\n",
      "////////////////////////////////////////////////\n",
      "[6.5346017]\n"
     ]
    },
    {
     "data": {
      "image/png": "[encoded data removed]",
      "text/plain": [
       "<Figure size 640x480 with 1 Axes>"
      ]
     },
     "metadata": {},
     "output_type": "display_data"
    },
    {
     "name": "stdout",
     "output_type": "stream",
     "text": [
      "Final testing cost: 0.93347263\n",
      "Absolute mean square loss difference: 0.45136556\n"
     ]
    },
    {
     "data": {
      "image/png": "[encoded data removed]",
      "text/plain": [
       "<Figure size 640x480 with 1 Axes>"
      ]
     },
     "metadata": {},
     "output_type": "display_data"
    }
   ],
   "source": [
    "# Chạy ví dụ và giải thích Linear Regression model using TensorFlow Core API.\n",
    "import tensorflow.compat.v1 as tf\n",
    "import numpy as np\n",
    "import matplotlib.pyplot as plt\n",
    "tf.compat.v1.disable_eager_execution()\n",
    "# khởi tạo các giá trị\n",
    "learning_rate = 0.001\n",
    "training_epochs = 2000\n",
    "display_step = 200\n",
    "\n",
    "# Training Data\n",
    "n_samples = x_train.shape[0] # lấy số lượng phần tử train_X ,len(train_X)\n",
    "X = tf.placeholder(tf.float32)\n",
    "y = tf.placeholder(tf.float32)\n",
    "W = tf.Variable(np.random.randn(), name=\"weight\")\n",
    "b = tf.Variable(np.random.randn(), name=\"bias\")\n",
    "\n",
    "# Construct a linear model - tạo mô hinh hồi quy tuyến tính\n",
    "linear_model = W*X + b\n",
    "# Mean squared error, tính khoảng cách giá giá trị dự đoán với y_test\n",
    "cost = tf.reduce_sum(tf.square(linear_model - y)) / (2*n_samples) \n",
    "# optimizer giá trị tối ưu.\n",
    "optimizer = tf.train.GradientDescentOptimizer(learning_rate).minimize(cost)\n",
    "\n",
    "# Initializing the variables\n",
    "init = tf.global_variables_initializer() # thu thập các biến toàn cục\n",
    "with tf.Session() as sess: # tạo phiên\n",
    " sess.run(init) # chạy biến toán cục\n",
    "# Fit all training data\n",
    " for epoch in range(training_epochs): \n",
    " # perform gradient descent step\n",
    "     sess.run(optimizer, feed_dict={X: x_train, y: y_train}) # chạy optimizer để lấy W, b -> tối ưu\n",
    "     # Display logs per epoch step\n",
    "     if (epoch+1) % display_step == 0: # để ra 1 vài bước\n",
    "         c = sess.run(cost, feed_dict={X: x_train, y: y_train}) # tính chi phí \n",
    "         print(\"Epoch:{0:6} \\t Cost:{1:10.4} \\t W:{2:6.4} \\t b:{3:6.4}\".format(epoch+1, c, sess.run(W), sess.run(b)))\n",
    "\n",
    "# Print final parameter values, lấy bộ giá trị cuối cùng trong quá trình tối ưu\n",
    " print(\"Optimization Finished!\")\n",
    " training_cost = sess.run(cost, feed_dict={X: x_train, y: y_train})\n",
    " print(\"Final training cost:\", training_cost, \"W:\", sess.run(W), \"b:\",sess.run(b), '\\n')\n",
    " print(\"////////////////////////////////////////////////\")\n",
    " pre = sess.run(linear_model, feed_dict={X:[7+7.5+6.5]})\n",
    " print(pre)\n",
    " # Graphic display, trực quan hóa đường dự đoán với dữ liệu huấn luyện\n",
    " plt.plot(x_train, y_train, 'ro', label='Original data')\n",
    " plt.plot(x_train, sess.run(W) * x_train + sess.run(b), label='Fitted line')\n",
    " plt.legend()\n",
    " plt.show()\n",
    " \n",
    " # Testing the model, kiểm tra mô hình\n",
    " testing_cost = sess.run(tf.reduce_sum(tf.square(linear_model - y)) / (2 * x_test.shape[0]),feed_dict={X: x_test, y: y_test})\n",
    " \n",
    " print(\"Final testing cost:\", testing_cost)#đo sai lệch giữa giá trị dự đoán và giá trị thực tế\n",
    " print(\"Absolute mean square loss difference:\", abs(training_cost - testing_cost))\n",
    "    \n",
    " # Display fitted line on test data, trực quan hóa đường tuyến tính với dữ liệu kiểm tra\n",
    " plt.plot(x_test, y_test, 'bo', label='Testing data')\n",
    " plt.plot(x_train, sess.run(W) * x_train + sess.run(b), label='Fitted line')\n",
    " plt.legend()\n",
    " plt.show()"
   ]
  },
  {
   "cell_type": "code",
   "execution_count": null,
   "id": "888499be",
   "metadata": {},
   "outputs": [],
   "source": []
  }
 ],
 "metadata": {
  "kernelspec": {
   "display_name": "Python 3 (ipykernel)",
   "language": "python",
   "name": "python3"
  },
  "language_info": {
   "codemirror_mode": {
    "name": "ipython",
    "version": 3
   },
   "file_extension": ".py",
   "mimetype": "text/x-python",
   "name": "python",
   "nbconvert_exporter": "python",
   "pygments_lexer": "ipython3",
   "version": "3.11.4"
  }
 },
 "nbformat": 4,
 "nbformat_minor": 5
}
