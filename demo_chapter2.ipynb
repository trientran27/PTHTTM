{
 "cells": [
  {
   "cell_type": "code",
   "execution_count": 1,
   "id": "38c4bee4",
   "metadata": {},
   "outputs": [],
   "source": [
    "import numpy as np"
   ]
  },
  {
   "cell_type": "code",
   "execution_count": 3,
   "id": "c99c08c5",
   "metadata": {},
   "outputs": [
    {
     "name": "stdout",
     "output_type": "stream",
     "text": [
      "[0 1 2 3 4 5 6 7 8 9]\n",
      "(10,)\n"
     ]
    }
   ],
   "source": [
    "al = np.arange(10)#khoi tao mang 1 chieu gom cac phan tu 0 toi 9\n",
    "print(al)\n",
    "print(al.shape)#hinh dang cua mang 1 chieu 10 phan tu"
   ]
  },
  {
   "cell_type": "code",
   "execution_count": 5,
   "id": "dda9577b",
   "metadata": {},
   "outputs": [
    {
     "name": "stdout",
     "output_type": "stream",
     "text": [
      "[0 2 4 6 8]\n"
     ]
    }
   ],
   "source": [
    "a2 = np.arange(0, 10, 2)# khoi tao mang tu 0 toi 9 khoang cach 2\n",
    "print(a2)"
   ]
  },
  {
   "cell_type": "code",
   "execution_count": 6,
   "id": "9b73c8aa",
   "metadata": {},
   "outputs": [
    {
     "name": "stdout",
     "output_type": "stream",
     "text": [
      "[0. 0. 0. 0. 0.]\n",
      "(5,)\n"
     ]
    }
   ],
   "source": [
    "a3 = np.zeros(5) #khoi tao mang 5 phan tu la 0\n",
    "print(a3)\n",
    "print(a3.shape)"
   ]
  },
  {
   "cell_type": "code",
   "execution_count": 7,
   "id": "9dea5abb",
   "metadata": {},
   "outputs": [
    {
     "name": "stdout",
     "output_type": "stream",
     "text": [
      "(2, 3)\n"
     ]
    }
   ],
   "source": [
    "a4 = np.zeros((2,3)) # khoi tao mang 2 chieu 2 hang 3 cot cac phan tu la 0\n",
    "print(a4.shape)"
   ]
  },
  {
   "cell_type": "code",
   "execution_count": 8,
   "id": "b533fe32",
   "metadata": {},
   "outputs": [
    {
     "name": "stdout",
     "output_type": "stream",
     "text": [
      "[[0. 0. 0.]\n",
      " [0. 0. 0.]]\n"
     ]
    }
   ],
   "source": [
    "print(a4)"
   ]
  },
  {
   "cell_type": "code",
   "execution_count": 9,
   "id": "1cc12d1a",
   "metadata": {},
   "outputs": [],
   "source": [
    "a5 = np.full((2, 3), 8) #khoi tao mang 2 chieu voi cac phan tu la 8"
   ]
  },
  {
   "cell_type": "code",
   "execution_count": 10,
   "id": "cc2924af",
   "metadata": {},
   "outputs": [
    {
     "name": "stdout",
     "output_type": "stream",
     "text": [
      "[[8 8 8]\n",
      " [8 8 8]]\n"
     ]
    }
   ],
   "source": [
    "print(a5)"
   ]
  },
  {
   "cell_type": "code",
   "execution_count": 11,
   "id": "2f356ce8",
   "metadata": {},
   "outputs": [],
   "source": [
    "a6 = np.eye(4)#tao 1 ma tran don vi"
   ]
  },
  {
   "cell_type": "code",
   "execution_count": 12,
   "id": "ccce4353",
   "metadata": {},
   "outputs": [
    {
     "name": "stdout",
     "output_type": "stream",
     "text": [
      "[[1. 0. 0. 0.]\n",
      " [0. 1. 0. 0.]\n",
      " [0. 0. 1. 0.]\n",
      " [0. 0. 0. 1.]]\n"
     ]
    }
   ],
   "source": [
    "print(a6)"
   ]
  },
  {
   "cell_type": "code",
   "execution_count": 15,
   "id": "fe4d8f48",
   "metadata": {},
   "outputs": [
    {
     "name": "stdout",
     "output_type": "stream",
     "text": [
      "[[0.83895117 0.79506925 0.16253835 0.54109846]\n",
      " [0.66302171 0.53985365 0.43658968 0.70500451]]\n"
     ]
    }
   ],
   "source": [
    "a7 = np.random.random((2, 4)) #tao ma tran 2 chieu ran dom cac gia tri chay tu 0 toi 1\n",
    "print(a7)"
   ]
  },
  {
   "cell_type": "code",
   "execution_count": 16,
   "id": "62c88cf8",
   "metadata": {},
   "outputs": [],
   "source": [
    "list1 = [1, 2, 3, 4, 5]"
   ]
  },
  {
   "cell_type": "code",
   "execution_count": 17,
   "id": "3499edb2",
   "metadata": {},
   "outputs": [],
   "source": [
    "r1 = np.array(list1) #tao mang 1 chieu r1 voi noi dung cua danh sach lít1"
   ]
  },
  {
   "cell_type": "code",
   "execution_count": 18,
   "id": "133e4777",
   "metadata": {},
   "outputs": [
    {
     "name": "stdout",
     "output_type": "stream",
     "text": [
      "[1 2 3 4 5]\n"
     ]
    }
   ],
   "source": [
    "print(r1)"
   ]
  },
  {
   "cell_type": "code",
   "execution_count": 19,
   "id": "df4758fa",
   "metadata": {},
   "outputs": [
    {
     "name": "stdout",
     "output_type": "stream",
     "text": [
      "1\n",
      "2\n"
     ]
    }
   ],
   "source": [
    "print(r1[0])\n",
    "print(r1[1])"
   ]
  },
  {
   "cell_type": "code",
   "execution_count": 20,
   "id": "a06269d4",
   "metadata": {},
   "outputs": [
    {
     "name": "stdout",
     "output_type": "stream",
     "text": [
      "[[1 2 3 4 5]\n",
      " [6 7 8 9 0]]\n"
     ]
    }
   ],
   "source": [
    "list2 = [6, 7, 8, 9, 0]\n",
    "r2 = np.array([list1, list2])  #tao mang 2 chieu tu list1, list2\n",
    "print(r2)"
   ]
  },
  {
   "cell_type": "code",
   "execution_count": 21,
   "id": "fd85aec2",
   "metadata": {},
   "outputs": [
    {
     "name": "stdout",
     "output_type": "stream",
     "text": [
      "(2, 5)\n",
      "1\n",
      "2\n",
      "6\n"
     ]
    }
   ],
   "source": [
    "print(r2.shape) # kich thuoc ma tran\n",
    "print(r2[0,0]) # 1\n",
    "print(r2[0,1]) # 2\n",
    "print(r2[1,0])"
   ]
  },
  {
   "cell_type": "code",
   "execution_count": 22,
   "id": "8f757671",
   "metadata": {},
   "outputs": [
    {
     "name": "stdout",
     "output_type": "stream",
     "text": [
      "[3 5]\n"
     ]
    }
   ],
   "source": [
    "list1 = [1,2,3,4,5]\n",
    "r1 = np.array(list1)\n",
    "print(r1[[2,4]]) # in phan tu thu 2 va 4 trong mang bang cach goi danh sach"
   ]
  },
  {
   "cell_type": "code",
   "execution_count": 23,
   "id": "13d28898",
   "metadata": {},
   "outputs": [
    {
     "name": "stdout",
     "output_type": "stream",
     "text": [
      "[False False  True  True  True]\n"
     ]
    }
   ],
   "source": [
    "print(r1>2)#tra ve true khi phan tu trong mang >2"
   ]
  },
  {
   "cell_type": "code",
   "execution_count": 24,
   "id": "a38b83e4",
   "metadata": {},
   "outputs": [
    {
     "name": "stdout",
     "output_type": "stream",
     "text": [
      "[3 4 5]\n"
     ]
    }
   ],
   "source": [
    "print(r1[r1>2]) #tra ve nhung phan tu trong r1 thoa man >2"
   ]
  },
  {
   "cell_type": "code",
   "execution_count": 25,
   "id": "4aaaf8af",
   "metadata": {},
   "outputs": [
    {
     "name": "stdout",
     "output_type": "stream",
     "text": [
      "[ 0  1  2  3  4  5  6  7  8  9 10 11 12 13 14 15 16 17 18 19]\n"
     ]
    }
   ],
   "source": [
    "nums = np.arange(20)\n",
    "print(nums)"
   ]
  },
  {
   "cell_type": "code",
   "execution_count": 26,
   "id": "d321773c",
   "metadata": {},
   "outputs": [
    {
     "name": "stdout",
     "output_type": "stream",
     "text": [
      "[ 1  3  5  7  9 11 13 15 17 19]\n"
     ]
    }
   ],
   "source": [
    "odd_num = nums[nums % 2 == 1] #mang chua nhung so le\n",
    "print(odd_num) # [ 1 3 5 7 9 11 13 15 17 19]"
   ]
  },
  {
   "cell_type": "code",
   "execution_count": 27,
   "id": "ab1cdecc",
   "metadata": {},
   "outputs": [
    {
     "name": "stdout",
     "output_type": "stream",
     "text": [
      "[[1 2 3 4 5]\n",
      " [4 5 6 7 8]\n",
      " [9 8 7 6 5]]\n"
     ]
    }
   ],
   "source": [
    "a = np.array([[1,2,3,4,5],\n",
    "[4,5,6,7,8],\n",
    "[9,8,7,6,5]]) \n",
    "print(a)"
   ]
  },
  {
   "cell_type": "code",
   "execution_count": 28,
   "id": "8d4d68aa",
   "metadata": {},
   "outputs": [
    {
     "name": "stdout",
     "output_type": "stream",
     "text": [
      "[[4 5 6]\n",
      " [9 8 7]]\n"
     ]
    }
   ],
   "source": [
    "b1 = a[1:3, :3] #hang 1 tới 2, cot 0 tới 2\n",
    "print(b1)"
   ]
  },
  {
   "cell_type": "code",
   "execution_count": 29,
   "id": "7130d06f",
   "metadata": {},
   "outputs": [
    {
     "name": "stdout",
     "output_type": "stream",
     "text": [
      "[[7 8]\n",
      " [6 5]]\n"
     ]
    }
   ],
   "source": [
    "b2 = a[-2:,-2:]  #in ra ma tran con bắt đầu từ hàng và cột -2 tới -1\n",
    "print(b2)"
   ]
  },
  {
   "cell_type": "code",
   "execution_count": 30,
   "id": "35f22fb2",
   "metadata": {},
   "outputs": [
    {
     "name": "stdout",
     "output_type": "stream",
     "text": [
      "[[6 7 8]\n",
      " [7 6 5]]\n"
     ]
    }
   ],
   "source": [
    "b3 = a[1: , 2:] #tran trận con tham chiếu tu hàng 1, cột 2 của ma trận a\n",
    "print(b3)"
   ]
  },
  {
   "cell_type": "code",
   "execution_count": 31,
   "id": "d2ebe373",
   "metadata": {},
   "outputs": [
    {
     "name": "stdout",
     "output_type": "stream",
     "text": [
      "[[ 1  2  3  4  5]\n",
      " [ 4  5  6  7 88]\n",
      " [ 9  8  7  6  5]]\n"
     ]
    }
   ],
   "source": [
    "b3[0,2] =88 #gan gia tri cho phan tu[0,2] của mang b2 tương ứng với[1,4] ma tran a\n",
    "print(a)"
   ]
  },
  {
   "cell_type": "code",
   "execution_count": 32,
   "id": "37764bb3",
   "metadata": {},
   "outputs": [
    {
     "name": "stdout",
     "output_type": "stream",
     "text": [
      "[[9 8 7 6 5]]\n",
      "(1, 5)\n"
     ]
    }
   ],
   "source": [
    "b4 = a[2:, :] # từ hàng 2 và tất cả cột của ma trận a\n",
    "print(b4)\n",
    "print(b4.shape) #vì b4 được cắt theo kiểu 2 chiều nên shape sẽ in ra (hàng, cột)"
   ]
  },
  {
   "cell_type": "code",
   "execution_count": 33,
   "id": "5b1ce420",
   "metadata": {},
   "outputs": [
    {
     "name": "stdout",
     "output_type": "stream",
     "text": [
      "[9 8 7 6 5]\n"
     ]
    }
   ],
   "source": [
    "b5 = a[2, :] # cat hàng 2 và tất cả các cột\n",
    "print(b5)"
   ]
  },
  {
   "cell_type": "code",
   "execution_count": 34,
   "id": "ded2f510",
   "metadata": {},
   "outputs": [
    {
     "name": "stdout",
     "output_type": "stream",
     "text": [
      "(5,)\n"
     ]
    }
   ],
   "source": [
    "print(b5.shape) #vì b5 được hiểu cắt mảng 1 chiều nên shape sẽ in ra(phần tử,)"
   ]
  },
  {
   "cell_type": "code",
   "execution_count": 35,
   "id": "7504c714",
   "metadata": {},
   "outputs": [
    {
     "name": "stdout",
     "output_type": "stream",
     "text": [
      "[[9 8 7 6 5]]\n"
     ]
    }
   ],
   "source": [
    "b5 = b5.reshape(1,-1) #chuyển mảng 1 chiều thành 2 chiều với 1 hàng và số cột giữ nguyên so ban đầu\n",
    "print(b5)"
   ]
  },
  {
   "cell_type": "code",
   "execution_count": 42,
   "id": "88fae5d4",
   "metadata": {},
   "outputs": [
    {
     "data": {
      "text/plain": [
       "array([9, 8, 7, 6, 5])"
      ]
     },
     "execution_count": 42,
     "metadata": {},
     "output_type": "execute_result"
    }
   ],
   "source": [
    "#chú ý chuyển đổi qua lại chiều của mảng phải thỏa mãn số phần tử bằng nhau\n",
    "b4.reshape(-1,)"
   ]
  },
  {
   "cell_type": "code",
   "execution_count": 43,
   "id": "88e75ce9",
   "metadata": {},
   "outputs": [],
   "source": [
    "x1 = np.array([[1,2,3],[4,5,6]]) #khoi tao mang 2 chieu tu danh sach\n",
    "y1 = np.array([[7,8,9],[2,3,4]])"
   ]
  },
  {
   "cell_type": "code",
   "execution_count": 44,
   "id": "7a6d3688",
   "metadata": {},
   "outputs": [
    {
     "name": "stdout",
     "output_type": "stream",
     "text": [
      "[[ 8 10 12]\n",
      " [ 6  8 10]]\n"
     ]
    }
   ],
   "source": [
    "print(x1 + y1)"
   ]
  },
  {
   "cell_type": "code",
   "execution_count": 45,
   "id": "37d9c44d",
   "metadata": {},
   "outputs": [],
   "source": [
    "x = np.array([2,3])\n",
    "y = np.array([4,2])\n",
    "z = x + y"
   ]
  },
  {
   "cell_type": "code",
   "execution_count": 46,
   "id": "70ae6c58",
   "metadata": {},
   "outputs": [
    {
     "name": "stdout",
     "output_type": "stream",
     "text": [
      "[6 5]\n"
     ]
    }
   ],
   "source": [
    "print(z)"
   ]
  },
  {
   "cell_type": "code",
   "execution_count": 47,
   "id": "1acae617",
   "metadata": {},
   "outputs": [
    {
     "name": "stdout",
     "output_type": "stream",
     "text": [
      "[[-6 -6 -6]\n",
      " [ 2  2  2]]\n"
     ]
    }
   ],
   "source": [
    "print(x1 - y1) # same as np.subtract(x1,y1)"
   ]
  },
  {
   "cell_type": "code",
   "execution_count": 48,
   "id": "9d68427b",
   "metadata": {},
   "outputs": [
    {
     "name": "stdout",
     "output_type": "stream",
     "text": [
      "[[ 7 16 27]\n",
      " [ 8 15 24]]\n"
     ]
    }
   ],
   "source": [
    "print(x1 * y1) # same as np.multiply(x1,y1)\n"
   ]
  },
  {
   "cell_type": "code",
   "execution_count": 49,
   "id": "af4dcea0",
   "metadata": {},
   "outputs": [
    {
     "name": "stdout",
     "output_type": "stream",
     "text": [
      "[[0.14285714 0.25       0.33333333]\n",
      " [2.         1.66666667 1.5       ]]\n"
     ]
    }
   ],
   "source": [
    "print(x1 / y1) # same as np.divide(x1,y1)"
   ]
  },
  {
   "cell_type": "code",
   "execution_count": 2,
   "id": "636d57fc",
   "metadata": {},
   "outputs": [],
   "source": [
    "#46\n",
    "names = np.array(['Ann','Joe','Mark'])\n",
    "heights = np.array([1.5, 1.78, 1.6])\n",
    "weights = np.array([65, 46, 59])"
   ]
  },
  {
   "cell_type": "code",
   "execution_count": 3,
   "id": "ef64bc9a",
   "metadata": {},
   "outputs": [
    {
     "name": "stdout",
     "output_type": "stream",
     "text": [
      "[28.88888889 14.51836889 23.046875  ]\n"
     ]
    }
   ],
   "source": [
    "#47\n",
    "bmi = weights/heights **2 # chỉ số cơ thể\n",
    "print(bmi)"
   ]
  },
  {
   "cell_type": "code",
   "execution_count": 52,
   "id": "4137cac0",
   "metadata": {},
   "outputs": [
    {
     "name": "stdout",
     "output_type": "stream",
     "text": [
      "Overweight:  ['Ann']\n",
      "Underweight:  ['Joe']\n",
      "Healthy:  ['Mark']\n"
     ]
    }
   ],
   "source": [
    "print(\"Overweight: \" , names[bmi>25])  #thua can\n",
    "print(\"Underweight: \" , names[bmi<18.5])  #thieu can\n",
    "print(\"Healthy: \" , names[(bmi>=18.5) & (bmi<=25)]) #binh thuong"
   ]
  },
  {
   "cell_type": "code",
   "execution_count": 53,
   "id": "3cf8c0d6",
   "metadata": {},
   "outputs": [
    {
     "data": {
      "text/plain": [
       "14"
      ]
     },
     "execution_count": 53,
     "metadata": {},
     "output_type": "execute_result"
    }
   ],
   "source": [
    "#hàm dot là tinh tich vo huong cua 2 vector\n",
    "x = np.array([2,3])\n",
    "y = np.array([4,2])\n",
    "np.dot(x,y) # 2x4 + 3x2 = 14"
   ]
  },
  {
   "cell_type": "code",
   "execution_count": 54,
   "id": "d1562d30",
   "metadata": {},
   "outputs": [],
   "source": [
    "#48"
   ]
  },
  {
   "cell_type": "code",
   "execution_count": 55,
   "id": "db5fef0e",
   "metadata": {},
   "outputs": [
    {
     "name": "stdout",
     "output_type": "stream",
     "text": [
      "[[ 58  64]\n",
      " [139 154]]\n"
     ]
    }
   ],
   "source": [
    "x2 = np.array([[1,2,3],[4,5,6]])\n",
    "y2 = np.array([[7,8],[9,10], [11,12]])\n",
    "print(np.dot(x2,y2)) #tich vo hương 2 ma trân 2x3 và 3x2\n",
    "#vd: 1 × 7 + 2 × 9 + 3 × 11 = 58"
   ]
  },
  {
   "cell_type": "code",
   "execution_count": 56,
   "id": "96af67e6",
   "metadata": {},
   "outputs": [],
   "source": [
    "x2 = np.matrix([[1,2],[4,5]])  #giong mang tuy nhiên ma trận mặc định 2 chiều\n",
    "y2 = np.matrix([[7,8],[2,3]])"
   ]
  },
  {
   "cell_type": "code",
   "execution_count": 57,
   "id": "cf555af8",
   "metadata": {},
   "outputs": [],
   "source": [
    "x1 = np.array([[1,2],[4,5]])\n",
    "y1 = np.array([[7,8],[2,3]])\n",
    "x1 = np.asmatrix(x1) # là 1 thu viện chuyển đổi mảng thành ma trận\n",
    "y1 = np.asmatrix(y1)"
   ]
  },
  {
   "cell_type": "code",
   "execution_count": 58,
   "id": "483130a9",
   "metadata": {},
   "outputs": [
    {
     "name": "stdout",
     "output_type": "stream",
     "text": [
      "[[ 7 16]\n",
      " [ 8 15]]\n"
     ]
    }
   ],
   "source": [
    "x1 = np.array([[1,2],[4,5]])\n",
    "y1 = np.array([[7,8],[2,3]])\n",
    "print(x1 * y1)  #như nhân cac phân thử tương ứng của 2 mảng"
   ]
  },
  {
   "cell_type": "code",
   "execution_count": 59,
   "id": "093492fa",
   "metadata": {},
   "outputs": [
    {
     "name": "stdout",
     "output_type": "stream",
     "text": [
      "[[11 14]\n",
      " [38 47]]\n"
     ]
    }
   ],
   "source": [
    "x2 = np.matrix([[1,2],[4,5]])\n",
    "y2 = np.matrix([[7,8],[2,3]])\n",
    "print(x2 * y2) #nhân 2 ma trận khác nhân 2 mảng, giống tích vô hướng 2 mảng(hàm dot)"
   ]
  },
  {
   "cell_type": "code",
   "execution_count": 60,
   "id": "31701aad",
   "metadata": {},
   "outputs": [
    {
     "name": "stdout",
     "output_type": "stream",
     "text": [
      "[[1 2 3]\n",
      " [4 5 6]\n",
      " [7 8 9]]\n"
     ]
    }
   ],
   "source": [
    "# tổng tích lũy\n",
    "a = np.array([(1,2,3),(4,5,6), (7,8,9)])\n",
    "print(a)"
   ]
  },
  {
   "cell_type": "code",
   "execution_count": 61,
   "id": "413984c9",
   "metadata": {},
   "outputs": [
    {
     "name": "stdout",
     "output_type": "stream",
     "text": [
      "[ 1  3  6 10 15 21 28 36 45]\n"
     ]
    }
   ],
   "source": [
    "print(a.cumsum())"
   ]
  },
  {
   "cell_type": "code",
   "execution_count": 62,
   "id": "edaf6a55",
   "metadata": {},
   "outputs": [
    {
     "name": "stdout",
     "output_type": "stream",
     "text": [
      "[[ 1  2  3]\n",
      " [ 5  7  9]\n",
      " [12 15 18]]\n"
     ]
    }
   ],
   "source": [
    "print(a.cumsum(axis=0)) #tổng tích lũy cột"
   ]
  },
  {
   "cell_type": "code",
   "execution_count": 63,
   "id": "a50143b0",
   "metadata": {},
   "outputs": [
    {
     "name": "stdout",
     "output_type": "stream",
     "text": [
      "[[ 1  3  6]\n",
      " [ 4  9 15]\n",
      " [ 7 15 24]]\n"
     ]
    }
   ],
   "source": [
    "print(a.cumsum(axis=1))  #tổng tích lũy hàng"
   ]
  },
  {
   "cell_type": "code",
   "execution_count": 64,
   "id": "b99fa801",
   "metadata": {},
   "outputs": [],
   "source": [
    "#sắp xếp trong numpy"
   ]
  },
  {
   "cell_type": "code",
   "execution_count": 66,
   "id": "c20a16a5",
   "metadata": {},
   "outputs": [
    {
     "name": "stdout",
     "output_type": "stream",
     "text": [
      "[ 5 12 13 34 37]\n",
      "[34 12 37  5 13]\n"
     ]
    }
   ],
   "source": [
    "ages = np.array([34,12,37,5,13])\n",
    "sorted_ages = np.sort(ages) # k tham chiếu tới địa chỉ mảng ban đầu\n",
    "print(sorted_ages) \n",
    "print(ages)"
   ]
  },
  {
   "cell_type": "code",
   "execution_count": 67,
   "id": "2f4d4fd6",
   "metadata": {},
   "outputs": [
    {
     "name": "stdout",
     "output_type": "stream",
     "text": [
      "[ 5 12 13 34 37]\n"
     ]
    }
   ],
   "source": [
    "ages.sort() # sửa đổi mảng\n",
    "print(ages)"
   ]
  },
  {
   "cell_type": "code",
   "execution_count": 68,
   "id": "cb71ac08",
   "metadata": {},
   "outputs": [
    {
     "name": "stdout",
     "output_type": "stream",
     "text": [
      "[3 1 4 0 2]\n"
     ]
    }
   ],
   "source": [
    "ages = np.array([34,12,37,5,13])\n",
    "print(ages.argsort()) #trả về trị số của mảng trước đó sau khi đã đc sắp xếp"
   ]
  },
  {
   "cell_type": "code",
   "execution_count": 69,
   "id": "f8c307e8",
   "metadata": {},
   "outputs": [
    {
     "name": "stdout",
     "output_type": "stream",
     "text": [
      "[ 5 12 13 34 37]\n"
     ]
    }
   ],
   "source": [
    "print(ages[ages.argsort()])"
   ]
  },
  {
   "cell_type": "code",
   "execution_count": 70,
   "id": "2ac1ae2c",
   "metadata": {},
   "outputs": [],
   "source": [
    "#51"
   ]
  },
  {
   "cell_type": "code",
   "execution_count": 71,
   "id": "00582a9f",
   "metadata": {},
   "outputs": [],
   "source": [
    "persons = np.array(['Johnny','Mary','Peter','Will','Joe'])\n",
    "ages = np.array([34,12,37,5,13])\n",
    "heights = np.array([1.76,1.2,1.68,0.5,1.25])"
   ]
  },
  {
   "cell_type": "code",
   "execution_count": 72,
   "id": "3fb44a0e",
   "metadata": {},
   "outputs": [],
   "source": [
    "sort_indices = np.argsort(ages)"
   ]
  },
  {
   "cell_type": "code",
   "execution_count": 73,
   "id": "014e0652",
   "metadata": {},
   "outputs": [
    {
     "name": "stdout",
     "output_type": "stream",
     "text": [
      "['Will' 'Mary' 'Joe' 'Johnny' 'Peter']\n"
     ]
    }
   ],
   "source": [
    "print(persons[sort_indices]) #sắp xếp người theo tuổi"
   ]
  },
  {
   "cell_type": "code",
   "execution_count": 74,
   "id": "7ba9414d",
   "metadata": {},
   "outputs": [
    {
     "name": "stdout",
     "output_type": "stream",
     "text": [
      "[ 5 12 13 34 37]\n",
      "[0.5  1.2  1.25 1.76 1.68]\n"
     ]
    }
   ],
   "source": [
    "print(ages[sort_indices]) # [ 5 12 13 34 37]\n",
    "print(heights[sort_indices])"
   ]
  },
  {
   "cell_type": "code",
   "execution_count": 75,
   "id": "6eb0cb66",
   "metadata": {},
   "outputs": [],
   "source": [
    "#tương tu có sắp xếp theo tên"
   ]
  },
  {
   "cell_type": "code",
   "execution_count": 76,
   "id": "45adce6a",
   "metadata": {},
   "outputs": [
    {
     "name": "stdout",
     "output_type": "stream",
     "text": [
      "['Joe' 'Johnny' 'Mary' 'Peter' 'Will']\n"
     ]
    }
   ],
   "source": [
    "sort_indices = np.argsort(persons)\n",
    "print(persons[sort_indices])"
   ]
  },
  {
   "cell_type": "code",
   "execution_count": 77,
   "id": "43f0bab2",
   "metadata": {},
   "outputs": [
    {
     "name": "stdout",
     "output_type": "stream",
     "text": [
      "[13 34 12 37  5]\n"
     ]
    }
   ],
   "source": [
    "print(ages[sort_indices])"
   ]
  },
  {
   "cell_type": "code",
   "execution_count": 78,
   "id": "998bae60",
   "metadata": {},
   "outputs": [
    {
     "name": "stdout",
     "output_type": "stream",
     "text": [
      "[1.25 1.76 1.2  1.68 0.5 ]\n"
     ]
    }
   ],
   "source": [
    "print(heights[sort_indices])"
   ]
  },
  {
   "cell_type": "code",
   "execution_count": 79,
   "id": "fc57e038",
   "metadata": {},
   "outputs": [
    {
     "name": "stdout",
     "output_type": "stream",
     "text": [
      "['Will' 'Peter' 'Mary' 'Johnny' 'Joe']\n",
      "[ 5 37 12 34 13]\n",
      "[0.5  1.68 1.2  1.76 1.25]\n"
     ]
    }
   ],
   "source": [
    "#sắp xếp theop tên và đảo ngc thứ tự lại thành giảm dần\n",
    "reverse_sort_indices = np.argsort(persons)[::-1]\n",
    "print(persons[reverse_sort_indices])\n",
    "print(ages[reverse_sort_indices])\n",
    "print(heights[reverse_sort_indices])"
   ]
  },
  {
   "cell_type": "code",
   "execution_count": 80,
   "id": "9cbb676b",
   "metadata": {},
   "outputs": [
    {
     "name": "stdout",
     "output_type": "stream",
     "text": [
      "[[1 2 3 4]\n",
      " [5 6 7 8]]\n"
     ]
    }
   ],
   "source": [
    "#52 gán mảng\n",
    "list1 = [[1,2,3,4], [5,6,7,8]]\n",
    "a1 = np.array(list1) #sao chép theo tham chiếu\n",
    "print(a1)\n"
   ]
  },
  {
   "cell_type": "code",
   "execution_count": 81,
   "id": "409157b1",
   "metadata": {},
   "outputs": [
    {
     "name": "stdout",
     "output_type": "stream",
     "text": [
      "[[1 2 3 4]\n",
      " [5 6 7 8]]\n"
     ]
    }
   ],
   "source": [
    "a2 = a1 #sao chép bằng toán tử \"=\"\n",
    "print(a1)"
   ]
  },
  {
   "cell_type": "code",
   "execution_count": 83,
   "id": "6d44eee7",
   "metadata": {},
   "outputs": [
    {
     "name": "stdout",
     "output_type": "stream",
     "text": [
      "[[11  2  3  4]\n",
      " [ 5  6  7  8]]\n"
     ]
    }
   ],
   "source": [
    "#gán theo toán tử \"=\" thì a2 thực sự trỏ tới a1 vì vậy bất kì thay đổi nào \n",
    "#giữa 2 thằng đều làm thay đổi thằng còn lại\n",
    "#vd:\n",
    "a2[0][0] = 11 \n",
    "print(a1)"
   ]
  },
  {
   "cell_type": "code",
   "execution_count": 84,
   "id": "19e2af15",
   "metadata": {},
   "outputs": [],
   "source": [
    "#kể cả thay đổi định hình của 1 mảng thì mảng còn lại cũng bị thay đổi theo"
   ]
  },
  {
   "cell_type": "code",
   "execution_count": 85,
   "id": "a54c540d",
   "metadata": {},
   "outputs": [
    {
     "name": "stdout",
     "output_type": "stream",
     "text": [
      "[[11  2  3  4  5  6  7  8]]\n"
     ]
    }
   ],
   "source": [
    "a1.shape = 1,-1 # reshape a1\n",
    "print(a1)"
   ]
  },
  {
   "cell_type": "code",
   "execution_count": 86,
   "id": "69ac1f2d",
   "metadata": {},
   "outputs": [
    {
     "name": "stdout",
     "output_type": "stream",
     "text": [
      "[[11  2  3  4  5  6  7  8]]\n"
     ]
    }
   ],
   "source": [
    "print(a2) #a2 cùng bị thay đổi"
   ]
  },
  {
   "cell_type": "code",
   "execution_count": 87,
   "id": "1f85bb94",
   "metadata": {},
   "outputs": [],
   "source": [
    "#54\n",
    "#tao bản sao , khi thay đổi định dạng bản gốc bản sao vẫn giữ nguyên ban đầu so \n",
    "#với bản sao trước đó, còn thay đổi giá trị thì vẫn bị thay đổi\n",
    "a2 = a1.view()"
   ]
  },
  {
   "cell_type": "code",
   "execution_count": 88,
   "id": "3d4b179b",
   "metadata": {},
   "outputs": [
    {
     "name": "stdout",
     "output_type": "stream",
     "text": [
      "[[11  2  3  4  5  6  7  8]]\n"
     ]
    }
   ],
   "source": [
    "print(a1)\n"
   ]
  },
  {
   "cell_type": "code",
   "execution_count": 89,
   "id": "84f48016",
   "metadata": {},
   "outputs": [
    {
     "name": "stdout",
     "output_type": "stream",
     "text": [
      "[[11  2  3  4  5  6  7  8]]\n"
     ]
    }
   ],
   "source": [
    "print(a2)"
   ]
  },
  {
   "cell_type": "code",
   "execution_count": 90,
   "id": "5b38958e",
   "metadata": {},
   "outputs": [
    {
     "name": "stdout",
     "output_type": "stream",
     "text": [
      "[[11  2  3  4  5  6  7  8]]\n"
     ]
    }
   ],
   "source": [
    "a1[0][0] = 11 # thay đổi giá trị\n",
    "print(a1)"
   ]
  },
  {
   "cell_type": "code",
   "execution_count": 91,
   "id": "2811f217",
   "metadata": {},
   "outputs": [
    {
     "name": "stdout",
     "output_type": "stream",
     "text": [
      "[[11  2  3  4  5  6  7  8]]\n"
     ]
    }
   ],
   "source": [
    "print(a2)"
   ]
  },
  {
   "cell_type": "code",
   "execution_count": 92,
   "id": "5b20aefe",
   "metadata": {},
   "outputs": [],
   "source": [
    "#thay đổi định dạng"
   ]
  },
  {
   "cell_type": "code",
   "execution_count": 93,
   "id": "e1d122cf",
   "metadata": {},
   "outputs": [
    {
     "name": "stdout",
     "output_type": "stream",
     "text": [
      "[[11  2  3  4  5  6  7  8]]\n"
     ]
    }
   ],
   "source": [
    "a1.shape = 1,-1\n",
    "print(a1)"
   ]
  },
  {
   "cell_type": "code",
   "execution_count": 96,
   "id": "f5cffc9e",
   "metadata": {},
   "outputs": [
    {
     "name": "stdout",
     "output_type": "stream",
     "text": [
      "[[11  2  3  4]\n",
      " [ 5  6  7  8]]\n"
     ]
    }
   ],
   "source": [
    "a1.shape = -1,4\n",
    "print(a1)"
   ]
  },
  {
   "cell_type": "code",
   "execution_count": 97,
   "id": "ad3a8f0b",
   "metadata": {},
   "outputs": [
    {
     "name": "stdout",
     "output_type": "stream",
     "text": [
      "[[11  2  3  4  5  6  7  8]]\n"
     ]
    }
   ],
   "source": [
    "print(a2)"
   ]
  },
  {
   "cell_type": "code",
   "execution_count": 105,
   "id": "1b6ded13",
   "metadata": {},
   "outputs": [],
   "source": [
    "#sao chép theo giá trị \n",
    "#55\n",
    "#hàm copy, đây là sao chép sâu tức khi bản gốc thay đổi bất kể về giá trị hay\n",
    "#định dạng thì bản sao vẫn không ảnh hưởng"
   ]
  },
  {
   "cell_type": "code",
   "execution_count": 99,
   "id": "9340b175",
   "metadata": {},
   "outputs": [],
   "source": [
    "#vd:"
   ]
  },
  {
   "cell_type": "code",
   "execution_count": 100,
   "id": "98d6c106",
   "metadata": {},
   "outputs": [],
   "source": [
    "list1 = [[1,2,3,4], [5,6,7,8]]\n",
    "a1 = np.array(list1)\n",
    "a2 = a1.copy()"
   ]
  },
  {
   "cell_type": "code",
   "execution_count": 101,
   "id": "f124d913",
   "metadata": {},
   "outputs": [
    {
     "name": "stdout",
     "output_type": "stream",
     "text": [
      "[[11  2  3  4]\n",
      " [ 5  6  7  8]]\n"
     ]
    }
   ],
   "source": [
    "a1[0][0] = 11 # make some changes in a1\n",
    "print(a1)"
   ]
  },
  {
   "cell_type": "code",
   "execution_count": 102,
   "id": "8abd264c",
   "metadata": {},
   "outputs": [
    {
     "name": "stdout",
     "output_type": "stream",
     "text": [
      "[[1 2 3 4]\n",
      " [5 6 7 8]]\n"
     ]
    }
   ],
   "source": [
    "print(a2)"
   ]
  },
  {
   "cell_type": "code",
   "execution_count": 103,
   "id": "3ba3ca68",
   "metadata": {},
   "outputs": [
    {
     "name": "stdout",
     "output_type": "stream",
     "text": [
      "[[11  2  3  4  5  6  7  8]]\n"
     ]
    }
   ],
   "source": [
    "a1.shape = 1,-1 # change the shape of a1\n",
    "print(a1)"
   ]
  },
  {
   "cell_type": "code",
   "execution_count": 104,
   "id": "6e19b2b5",
   "metadata": {},
   "outputs": [
    {
     "name": "stdout",
     "output_type": "stream",
     "text": [
      "[[1 2 3 4]\n",
      " [5 6 7 8]]\n"
     ]
    }
   ],
   "source": [
    "print(a2)"
   ]
  },
  {
   "cell_type": "code",
   "execution_count": null,
   "id": "9c2f23fe",
   "metadata": {},
   "outputs": [],
   "source": []
  }
 ],
 "metadata": {
  "kernelspec": {
   "display_name": "Python 3 (ipykernel)",
   "language": "python",
   "name": "python3"
  },
  "language_info": {
   "codemirror_mode": {
    "name": "ipython",
    "version": 3
   },
   "file_extension": ".py",
   "mimetype": "text/x-python",
   "name": "python",
   "nbconvert_exporter": "python",
   "pygments_lexer": "ipython3",
   "version": "3.11.4"
  }
 },
 "nbformat": 4,
 "nbformat_minor": 5
}
